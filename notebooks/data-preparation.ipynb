{
 "cells": [
  {
   "cell_type": "markdown",
   "metadata": {},
   "source": [
    "### Setup data directory"
   ]
  },
  {
   "cell_type": "code",
   "execution_count": 2,
   "metadata": {
    "collapsed": false
   },
   "outputs": [
    {
     "name": "stdout",
     "output_type": "stream",
     "text": [
      "/usr/local/notebooks\n"
     ]
    }
   ],
   "source": [
    "cd /usr/local/notebooks"
   ]
  },
  {
   "cell_type": "code",
   "execution_count": 3,
   "metadata": {
    "collapsed": false
   },
   "outputs": [],
   "source": [
    "mkdir -p ./data"
   ]
  },
  {
   "cell_type": "code",
   "execution_count": 4,
   "metadata": {
    "collapsed": false,
    "scrolled": false
   },
   "outputs": [
    {
     "name": "stdout",
     "output_type": "stream",
     "text": [
      "/usr/local/notebooks/data\n"
     ]
    }
   ],
   "source": [
    "cd ./data"
   ]
  },
  {
   "cell_type": "markdown",
   "metadata": {},
   "source": [
    "### Download database files"
   ]
  },
  {
   "cell_type": "code",
   "execution_count": 5,
   "metadata": {
    "collapsed": false
   },
   "outputs": [
    {
     "name": "stdout",
     "output_type": "stream",
     "text": [
      "  % Total    % Received % Xferd  Average Speed   Time    Time     Time  Current\n",
      "                                 Dload  Upload   Total   Spent    Left  Speed\n",
      "100  117M  100  117M    0     0   9.9M      0  0:00:11  0:00:11 --:--:-- 10.4M\n"
     ]
    }
   ],
   "source": [
    "!curl -O http://athyra.oxli.org/~gjr/public2/misc/SSUsearch_db.tgz"
   ]
  },
  {
   "cell_type": "code",
   "execution_count": 6,
   "metadata": {
    "collapsed": false
   },
   "outputs": [
    {
     "name": "stdout",
     "output_type": "stream",
     "text": [
      "x SSUsearch_db/\n",
      "x SSUsearch_db/Gene_db.silva_108_rep_set.fasta\n",
      "x SSUsearch_db/Gene_tax.silva_taxa_family.tax\n",
      "x SSUsearch_db/Gene_model_org.16s_ecoli_J01695.fasta\n",
      "x SSUsearch_db/Gene_db_cc.greengene_97_otus.fasta\n",
      "x SSUsearch_db/Gene_tax_cc.greengene_97_otus.tax\n",
      "x SSUsearch_db/Copy_db.copyrighter.txt\n",
      "x SSUsearch_db/Ali_template.silva_ssu.fasta\n",
      "x SSUsearch_db/readme\n",
      "x SSUsearch_db/Ali_template.silva_lsu.fasta\n",
      "x SSUsearch_db/Ali_template.test.fasta\n",
      "x SSUsearch_db/Ali_template.test_lsu.fasta\n",
      "x SSUsearch_db/Gene_db.lsu_silva_rep.fasta\n",
      "x SSUsearch_db/Gene_db.ssu_rdp_rep.fasta\n",
      "x SSUsearch_db/Gene_tax.lsu_silva_rep.tax\n",
      "x SSUsearch_db/Gene_tax.ssu_rdp_rep.tax\n",
      "x SSUsearch_db/Hmm.lsu.hmm\n",
      "x SSUsearch_db/clean.sh\n",
      "x SSUsearch_db/Hmm.ssu.hmm\n"
     ]
    }
   ],
   "source": [
    "!tar -xzvf SSUsearch_db.tgz"
   ]
  },
  {
   "cell_type": "markdown",
   "metadata": {},
   "source": [
    "### download a small test dataset\n",
    "\n",
    "### ATT: for real (larger) dataset, make sure there is enough disk space."
   ]
  },
  {
   "cell_type": "code",
   "execution_count": 5,
   "metadata": {
    "collapsed": false
   },
   "outputs": [
    {
     "name": "stdout",
     "output_type": "stream",
     "text": [
      "--2015-04-16 17:50:05--  http://lyorn.idyll.org/~gjr/public2/misc/SSUsearch/test/\n",
      "Resolving lyorn.idyll.org... 35.9.124.246\n",
      "Connecting to lyorn.idyll.org|35.9.124.246|:80... connected.\n",
      "HTTP request sent, awaiting response... 200 OK\n",
      "Length: 1212 (1.2K) [text/html]\n",
      "Saving to: `test/index.html'\n",
      "\n",
      "100%[======================================>] 1,212       --.-K/s   in 0s      \n",
      "\n",
      "2015-04-16 17:50:05 (120 MB/s) - `test/index.html' saved [1212/1212]\n",
      "\n",
      "Loading robots.txt; please ignore errors.\n",
      "--2015-04-16 17:50:05--  http://lyorn.idyll.org/robots.txt\n",
      "Reusing existing connection to lyorn.idyll.org:80.\n",
      "HTTP request sent, awaiting response... 404 Not Found\n",
      "2015-04-16 17:50:05 ERROR 404: Not Found.\n",
      "\n",
      "Removing test/index.html since it should be rejected.\n",
      "\n",
      "--2015-04-16 17:50:05--  http://lyorn.idyll.org/~gjr/public2/misc/SSUsearch/test/?C=N;O=D\n",
      "Reusing existing connection to lyorn.idyll.org:80.\n",
      "HTTP request sent, awaiting response... 200 OK\n",
      "Length: 1212 (1.2K) [text/html]\n",
      "Saving to: `test/index.html?C=N;O=D'\n",
      "\n",
      "100%[======================================>] 1,212       --.-K/s   in 0s      \n",
      "\n",
      "2015-04-16 17:50:05 (134 MB/s) - `test/index.html?C=N;O=D' saved [1212/1212]\n",
      "\n",
      "Removing test/index.html?C=N;O=D since it should be rejected.\n",
      "\n",
      "--2015-04-16 17:50:05--  http://lyorn.idyll.org/~gjr/public2/misc/SSUsearch/test/?C=M;O=A\n",
      "Reusing existing connection to lyorn.idyll.org:80.\n",
      "HTTP request sent, awaiting response... 200 OK\n",
      "Length: 1212 (1.2K) [text/html]\n",
      "Saving to: `test/index.html?C=M;O=A'\n",
      "\n",
      "100%[======================================>] 1,212       --.-K/s   in 0s      \n",
      "\n",
      "2015-04-16 17:50:05 (137 MB/s) - `test/index.html?C=M;O=A' saved [1212/1212]\n",
      "\n",
      "Removing test/index.html?C=M;O=A since it should be rejected.\n",
      "\n",
      "--2015-04-16 17:50:05--  http://lyorn.idyll.org/~gjr/public2/misc/SSUsearch/test/?C=S;O=A\n",
      "Reusing existing connection to lyorn.idyll.org:80.\n",
      "HTTP request sent, awaiting response... 200 OK\n",
      "Length: 1212 (1.2K) [text/html]\n",
      "Saving to: `test/index.html?C=S;O=A'\n",
      "\n",
      "100%[======================================>] 1,212       --.-K/s   in 0s      \n",
      "\n",
      "2015-04-16 17:50:05 (136 MB/s) - `test/index.html?C=S;O=A' saved [1212/1212]\n",
      "\n",
      "Removing test/index.html?C=S;O=A since it should be rejected.\n",
      "\n",
      "--2015-04-16 17:50:05--  http://lyorn.idyll.org/~gjr/public2/misc/SSUsearch/test/?C=D;O=A\n",
      "Reusing existing connection to lyorn.idyll.org:80.\n",
      "HTTP request sent, awaiting response... 200 OK\n",
      "Length: 1212 (1.2K) [text/html]\n",
      "Saving to: `test/index.html?C=D;O=A'\n",
      "\n",
      "100%[======================================>] 1,212       --.-K/s   in 0s      \n",
      "\n",
      "2015-04-16 17:50:05 (135 MB/s) - `test/index.html?C=D;O=A' saved [1212/1212]\n",
      "\n",
      "Removing test/index.html?C=D;O=A since it should be rejected.\n",
      "\n",
      "--2015-04-16 17:50:05--  http://lyorn.idyll.org/~gjr/public2/misc/SSUsearch/test/SS.design\n",
      "Reusing existing connection to lyorn.idyll.org:80.\n",
      "HTTP request sent, awaiting response... 200 OK\n",
      "Length: 20\n",
      "Saving to: `test/SS.design'\n",
      "\n",
      "100%[======================================>] 20          --.-K/s   in 0s      \n",
      "\n",
      "2015-04-16 17:50:05 (2.26 MB/s) - `test/SS.design' saved [20/20]\n",
      "\n",
      "--2015-04-16 17:50:05--  http://lyorn.idyll.org/~gjr/public2/misc/SSUsearch/test/data/\n",
      "Reusing existing connection to lyorn.idyll.org:80.\n",
      "HTTP request sent, awaiting response... 200 OK\n",
      "Length: 1602 (1.6K) [text/html]\n",
      "Saving to: `test/data/index.html'\n",
      "\n",
      "100%[======================================>] 1,602       --.-K/s   in 0s      \n",
      "\n",
      "2015-04-16 17:50:05 (131 MB/s) - `test/data/index.html' saved [1602/1602]\n",
      "\n",
      "Removing test/data/index.html since it should be rejected.\n",
      "\n",
      "--2015-04-16 17:50:05--  http://lyorn.idyll.org/~gjr/public2/misc/SSUsearch/test/?C=N;O=A\n",
      "Reusing existing connection to lyorn.idyll.org:80.\n",
      "HTTP request sent, awaiting response... 200 OK\n",
      "Length: 1212 (1.2K) [text/html]\n",
      "Saving to: `test/index.html?C=N;O=A'\n",
      "\n",
      "100%[======================================>] 1,212       --.-K/s   in 0s      \n",
      "\n",
      "2015-04-16 17:50:05 (137 MB/s) - `test/index.html?C=N;O=A' saved [1212/1212]\n",
      "\n",
      "Removing test/index.html?C=N;O=A since it should be rejected.\n",
      "\n",
      "--2015-04-16 17:50:05--  http://lyorn.idyll.org/~gjr/public2/misc/SSUsearch/test/?C=M;O=D\n",
      "Reusing existing connection to lyorn.idyll.org:80.\n",
      "HTTP request sent, awaiting response... 200 OK\n",
      "Length: 1212 (1.2K) [text/html]\n",
      "Saving to: `test/index.html?C=M;O=D'\n",
      "\n",
      "100%[======================================>] 1,212       --.-K/s   in 0s      \n",
      "\n",
      "2015-04-16 17:50:05 (140 MB/s) - `test/index.html?C=M;O=D' saved [1212/1212]\n",
      "\n",
      "Removing test/index.html?C=M;O=D since it should be rejected.\n",
      "\n",
      "--2015-04-16 17:50:05--  http://lyorn.idyll.org/~gjr/public2/misc/SSUsearch/test/?C=S;O=D\n",
      "Reusing existing connection to lyorn.idyll.org:80.\n",
      "HTTP request sent, awaiting response... 200 OK\n",
      "Length: 1212 (1.2K) [text/html]\n",
      "Saving to: `test/index.html?C=S;O=D'\n",
      "\n",
      "100%[======================================>] 1,212       --.-K/s   in 0s      \n",
      "\n",
      "2015-04-16 17:50:05 (137 MB/s) - `test/index.html?C=S;O=D' saved [1212/1212]\n",
      "\n",
      "Removing test/index.html?C=S;O=D since it should be rejected.\n",
      "\n",
      "--2015-04-16 17:50:05--  http://lyorn.idyll.org/~gjr/public2/misc/SSUsearch/test/?C=D;O=D\n",
      "Reusing existing connection to lyorn.idyll.org:80.\n",
      "HTTP request sent, awaiting response... 200 OK\n",
      "Length: 1212 (1.2K) [text/html]\n",
      "Saving to: `test/index.html?C=D;O=D'\n",
      "\n",
      "100%[======================================>] 1,212       --.-K/s   in 0s      \n",
      "\n",
      "2015-04-16 17:50:05 (145 MB/s) - `test/index.html?C=D;O=D' saved [1212/1212]\n",
      "\n",
      "Removing test/index.html?C=D;O=D since it should be rejected.\n",
      "\n",
      "--2015-04-16 17:50:05--  http://lyorn.idyll.org/~gjr/public2/misc/SSUsearch/test/data/?C=N;O=D\n",
      "Reusing existing connection to lyorn.idyll.org:80.\n",
      "HTTP request sent, awaiting response... 200 OK\n",
      "Length: 1602 (1.6K) [text/html]\n",
      "Saving to: `test/data/index.html?C=N;O=D'\n",
      "\n",
      "100%[======================================>] 1,602       --.-K/s   in 0s      \n",
      "\n",
      "2015-04-16 17:50:06 (131 MB/s) - `test/data/index.html?C=N;O=D' saved [1602/1602]\n",
      "\n",
      "Removing test/data/index.html?C=N;O=D since it should be rejected.\n",
      "\n",
      "--2015-04-16 17:50:06--  http://lyorn.idyll.org/~gjr/public2/misc/SSUsearch/test/data/?C=M;O=A\n",
      "Reusing existing connection to lyorn.idyll.org:80.\n",
      "HTTP request sent, awaiting response... 200 OK\n",
      "Length: 1602 (1.6K) [text/html]\n",
      "Saving to: `test/data/index.html?C=M;O=A'\n",
      "\n",
      "100%[======================================>] 1,602       --.-K/s   in 0s      \n",
      "\n",
      "2015-04-16 17:50:06 (163 MB/s) - `test/data/index.html?C=M;O=A' saved [1602/1602]\n",
      "\n",
      "Removing test/data/index.html?C=M;O=A since it should be rejected.\n",
      "\n",
      "--2015-04-16 17:50:06--  http://lyorn.idyll.org/~gjr/public2/misc/SSUsearch/test/data/?C=S;O=A\n",
      "Reusing existing connection to lyorn.idyll.org:80.\n",
      "HTTP request sent, awaiting response... 200 OK\n",
      "Length: 1602 (1.6K) [text/html]\n",
      "Saving to: `test/data/index.html?C=S;O=A'\n",
      "\n",
      "100%[======================================>] 1,602       --.-K/s   in 0s      \n",
      "\n",
      "2015-04-16 17:50:06 (97.9 MB/s) - `test/data/index.html?C=S;O=A' saved [1602/1602]\n",
      "\n",
      "Removing test/data/index.html?C=S;O=A since it should be rejected.\n",
      "\n",
      "--2015-04-16 17:50:06--  http://lyorn.idyll.org/~gjr/public2/misc/SSUsearch/test/data/?C=D;O=A\n",
      "Reusing existing connection to lyorn.idyll.org:80.\n",
      "HTTP request sent, awaiting response... 200 OK\n",
      "Length: 1602 (1.6K) [text/html]\n",
      "Saving to: `test/data/index.html?C=D;O=A'\n",
      "\n",
      "100%[======================================>] 1,602       --.-K/s   in 0s      \n",
      "\n",
      "2015-04-16 17:50:06 (91.8 MB/s) - `test/data/index.html?C=D;O=A' saved [1602/1602]\n",
      "\n",
      "Removing test/data/index.html?C=D;O=A since it should be rejected.\n",
      "\n",
      "--2015-04-16 17:50:06--  http://lyorn.idyll.org/~gjr/public2/misc/SSUsearch/test/data/1c.fa\n",
      "Reusing existing connection to lyorn.idyll.org:80.\n",
      "HTTP request sent, awaiting response... 200 OK\n",
      "Length: 14992 (15K)\n",
      "Saving to: `test/data/1c.fa'\n",
      "\n",
      "100%[======================================>] 14,992      --.-K/s   in 0.03s   \n",
      "\n",
      "2015-04-16 17:50:06 (584 KB/s) - `test/data/1c.fa' saved [14992/14992]\n",
      "\n",
      "--2015-04-16 17:50:06--  http://lyorn.idyll.org/~gjr/public2/misc/SSUsearch/test/data/1d.fa\n",
      "Reusing existing connection to lyorn.idyll.org:80.\n",
      "HTTP request sent, awaiting response... 200 OK\n",
      "Length: 14974 (15K)\n",
      "Saving to: `test/data/1d.fa'\n",
      "\n",
      "100%[======================================>] 14,974      --.-K/s   in 0.02s   \n",
      "\n",
      "2015-04-16 17:50:06 (590 KB/s) - `test/data/1d.fa' saved [14974/14974]\n",
      "\n",
      "--2015-04-16 17:50:06--  http://lyorn.idyll.org/~gjr/public2/misc/SSUsearch/test/data/2c.fa\n",
      "Reusing existing connection to lyorn.idyll.org:80.\n",
      "HTTP request sent, awaiting response... 200 OK\n",
      "Length: 14991 (15K)\n",
      "Saving to: `test/data/2c.fa'\n",
      "\n",
      "100%[======================================>] 14,991      --.-K/s   in 0.02s   \n",
      "\n",
      "2015-04-16 17:50:06 (590 KB/s) - `test/data/2c.fa' saved [14991/14991]\n",
      "\n",
      "--2015-04-16 17:50:06--  http://lyorn.idyll.org/~gjr/public2/misc/SSUsearch/test/data/2d.fa\n",
      "Reusing existing connection to lyorn.idyll.org:80.\n",
      "HTTP request sent, awaiting response... 200 OK\n",
      "Length: 14994 (15K)\n",
      "Saving to: `test/data/2d.fa'\n",
      "\n",
      "100%[======================================>] 14,994      --.-K/s   in 0.02s   \n",
      "\n",
      "2015-04-16 17:50:06 (589 KB/s) - `test/data/2d.fa' saved [14994/14994]\n",
      "\n",
      "--2015-04-16 17:50:06--  http://lyorn.idyll.org/~gjr/public2/misc/SSUsearch/test/data/?C=N;O=A\n",
      "Reusing existing connection to lyorn.idyll.org:80.\n",
      "HTTP request sent, awaiting response... 200 OK\n",
      "Length: 1602 (1.6K) [text/html]\n",
      "Saving to: `test/data/index.html?C=N;O=A'\n",
      "\n",
      "100%[======================================>] 1,602       --.-K/s   in 0s      \n",
      "\n",
      "2015-04-16 17:50:06 (95.1 MB/s) - `test/data/index.html?C=N;O=A' saved [1602/1602]\n",
      "\n",
      "Removing test/data/index.html?C=N;O=A since it should be rejected.\n",
      "\n",
      "--2015-04-16 17:50:06--  http://lyorn.idyll.org/~gjr/public2/misc/SSUsearch/test/data/?C=M;O=D\n",
      "Reusing existing connection to lyorn.idyll.org:80.\n",
      "HTTP request sent, awaiting response... 200 OK\n",
      "Length: 1602 (1.6K) [text/html]\n",
      "Saving to: `test/data/index.html?C=M;O=D'\n",
      "\n",
      "100%[======================================>] 1,602       --.-K/s   in 0s      \n",
      "\n",
      "2015-04-16 17:50:06 (76.0 MB/s) - `test/data/index.html?C=M;O=D' saved [1602/1602]\n",
      "\n",
      "Removing test/data/index.html?C=M;O=D since it should be rejected.\n",
      "\n",
      "--2015-04-16 17:50:06--  http://lyorn.idyll.org/~gjr/public2/misc/SSUsearch/test/data/?C=S;O=D\n",
      "Reusing existing connection to lyorn.idyll.org:80.\n",
      "HTTP request sent, awaiting response... 200 OK\n",
      "Length: 1602 (1.6K) [text/html]\n",
      "Saving to: `test/data/index.html?C=S;O=D'\n",
      "\n",
      "100%[======================================>] 1,602       --.-K/s   in 0s      \n",
      "\n",
      "2015-04-16 17:50:06 (90.9 MB/s) - `test/data/index.html?C=S;O=D' saved [1602/1602]\n",
      "\n",
      "Removing test/data/index.html?C=S;O=D since it should be rejected.\n",
      "\n",
      "--2015-04-16 17:50:06--  http://lyorn.idyll.org/~gjr/public2/misc/SSUsearch/test/data/?C=D;O=D\n",
      "Reusing existing connection to lyorn.idyll.org:80.\n",
      "HTTP request sent, awaiting response... 200 OK\n",
      "Length: 1602 (1.6K) [text/html]\n",
      "Saving to: `test/data/index.html?C=D;O=D'\n",
      "\n",
      "100%[======================================>] 1,602       --.-K/s   in 0s      \n",
      "\n",
      "2015-04-16 17:50:06 (159 MB/s) - `test/data/index.html?C=D;O=D' saved [1602/1602]\n",
      "\n",
      "Removing test/data/index.html?C=D;O=D since it should be rejected.\n",
      "\n",
      "FINISHED --2015-04-16 17:50:06--\n",
      "Downloaded: 23 files, 83K in 0.1s (835 KB/s)\n"
     ]
    }
   ],
   "source": [
    "!wget -r -np -nH --cut-dir=4 --reject=\"index.html*\" http://athyra.oxli.org/~gjr/public2/misc/SSUsearch/test/"
   ]
  },
  {
   "cell_type": "code",
   "execution_count": 7,
   "metadata": {
    "collapsed": false
   },
   "outputs": [
    {
     "name": "stdout",
     "output_type": "stream",
     "text": [
      "ls: test/data/: No such file or directory\r\n"
     ]
    }
   ],
   "source": [
    "ls test/data/"
   ]
  },
  {
   "cell_type": "markdown",
   "metadata": {
    "collapsed": true
   },
   "source": [
    "###This tutorial assumes that you ready finished quality trimming, and also paired end merge, if you paired end reads overlap.\n",
    "\n",
    "For quality trimming, we recommend [trimmomatic](http://www.usadellab.org/cms/?page=trimmomatic) written in java, or [fastq-mcf](https://code.google.com/p/ea-utils/wiki/FastqMcf) written in C.\n",
    "\n",
    "For paired end reads merging, we recommend [pandseq](https://github.com/neufeld/pandaseq) or [flash](http://ccb.jhu.edu/software/FLASH/)"
   ]
  },
  {
   "cell_type": "code",
   "execution_count": null,
   "metadata": {
    "collapsed": true
   },
   "outputs": [],
   "source": []
  }
 ],
 "metadata": {
  "kernelspec": {
   "display_name": "Python 2",
   "language": "python",
   "name": "python2"
  },
  "language_info": {
   "codemirror_mode": {
    "name": "ipython",
    "version": 2
   },
   "file_extension": ".py",
   "mimetype": "text/x-python",
   "name": "python",
   "nbconvert_exporter": "python",
   "pygments_lexer": "ipython2",
   "version": "2.7.10"
  }
 },
 "nbformat": 4,
 "nbformat_minor": 0
}
