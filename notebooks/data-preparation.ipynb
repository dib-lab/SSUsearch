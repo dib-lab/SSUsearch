{
 "cells": [
  {
   "cell_type": "markdown",
   "metadata": {},
   "source": [
    "### Setup data directory"
   ]
  },
  {
   "cell_type": "code",
   "execution_count": 2,
   "metadata": {
    "collapsed": false
   },
   "outputs": [
    {
     "name": "stdout",
     "output_type": "stream",
     "text": [
      "/usr/local/notebooks\n"
     ]
    }
   ],
   "source": [
    "cd /usr/local/notebooks"
   ]
  },
  {
   "cell_type": "code",
   "execution_count": 3,
   "metadata": {
    "collapsed": false
   },
   "outputs": [],
   "source": [
    "mkdir -p ./data"
   ]
  },
  {
   "cell_type": "code",
   "execution_count": 4,
   "metadata": {
    "collapsed": false,
    "scrolled": false
   },
   "outputs": [
    {
     "name": "stdout",
     "output_type": "stream",
     "text": [
      "/usr/local/notebooks/data\n"
     ]
    }
   ],
   "source": [
    "cd ./data"
   ]
  },
  {
   "cell_type": "markdown",
   "metadata": {},
   "source": [
    "### Download database files"
   ]
  },
  {
   "cell_type": "code",
   "execution_count": 5,
   "metadata": {
    "collapsed": false
   },
   "outputs": [
    {
     "name": "stdout",
     "output_type": "stream",
     "text": [
      "  % Total    % Received % Xferd  Average Speed   Time    Time     Time  Current\n",
      "                                 Dload  Upload   Total   Spent    Left  Speed\n",
      "100  117M  100  117M    0     0   9.9M      0  0:00:11  0:00:11 --:--:-- 10.4M\n"
     ]
    }
   ],
   "source": [
    "!wget https://s3.amazonaws.com/ssusearchdb/SSUsearch_db.tgz"
   ]
  },
  {
   "cell_type": "code",
   "execution_count": 6,
   "metadata": {
    "collapsed": false
   },
   "outputs": [
    {
     "name": "stdout",
     "output_type": "stream",
     "text": [
      "x SSUsearch_db/\n",
      "x SSUsearch_db/Gene_db.silva_108_rep_set.fasta\n",
      "x SSUsearch_db/Gene_tax.silva_taxa_family.tax\n",
      "x SSUsearch_db/Gene_model_org.16s_ecoli_J01695.fasta\n",
      "x SSUsearch_db/Gene_db_cc.greengene_97_otus.fasta\n",
      "x SSUsearch_db/Gene_tax_cc.greengene_97_otus.tax\n",
      "x SSUsearch_db/Copy_db.copyrighter.txt\n",
      "x SSUsearch_db/Ali_template.silva_ssu.fasta\n",
      "x SSUsearch_db/readme\n",
      "x SSUsearch_db/Ali_template.silva_lsu.fasta\n",
      "x SSUsearch_db/Ali_template.test.fasta\n",
      "x SSUsearch_db/Ali_template.test_lsu.fasta\n",
      "x SSUsearch_db/Gene_db.lsu_silva_rep.fasta\n",
      "x SSUsearch_db/Gene_db.ssu_rdp_rep.fasta\n",
      "x SSUsearch_db/Gene_tax.lsu_silva_rep.tax\n",
      "x SSUsearch_db/Gene_tax.ssu_rdp_rep.tax\n",
      "x SSUsearch_db/Hmm.lsu.hmm\n",
      "x SSUsearch_db/clean.sh\n",
      "x SSUsearch_db/Hmm.ssu.hmm\n"
     ]
    }
   ],
   "source": [
    "!tar -xzvf SSUsearch_db.tgz"
   ]
  },
  {
   "cell_type": "markdown",
   "metadata": {},
   "source": [
    "### download a small test dataset\n",
    "\n",
    "### ATT: for real (larger) dataset, make sure there is enough disk space."
   ]
  },
  {
   "cell_type": "code",
   "execution_count": null,
   "metadata": {
    "collapsed": true
   },
   "outputs": [],
   "source": [
    "!wget https://s3.amazonaws.com/ssusearchdb/test.tgz\n",
    "!tar -xzvf test.tgz"
   ]
  },
  {
   "cell_type": "code",
   "execution_count": 7,
   "metadata": {
    "collapsed": false
   },
   "outputs": [
    {
     "name": "stdout",
     "output_type": "stream",
     "text": [
      "ls: test/data/: No such file or directory\r\n"
     ]
    }
   ],
   "source": [
    "ls test/data/"
   ]
  },
  {
   "cell_type": "markdown",
   "metadata": {
    "collapsed": true
   },
   "source": [
    "###This tutorial assumes that you ready finished quality trimming, and also paired end merge, if you paired end reads overlap.\n",
    "\n",
    "For quality trimming, we recommend [trimmomatic](http://www.usadellab.org/cms/?page=trimmomatic) written in java, or [fastq-mcf](https://code.google.com/p/ea-utils/wiki/FastqMcf) written in C.\n",
    "\n",
    "For paired end reads merging, we recommend [pandseq](https://github.com/neufeld/pandaseq) or [flash](http://ccb.jhu.edu/software/FLASH/)"
   ]
  },
  {
   "cell_type": "code",
   "execution_count": null,
   "metadata": {
    "collapsed": true
   },
   "outputs": [],
   "source": []
  }
 ],
 "metadata": {
  "kernelspec": {
   "display_name": "Python 2",
   "language": "python",
   "name": "python2"
  },
  "language_info": {
   "codemirror_mode": {
    "name": "ipython",
    "version": 2
   },
   "file_extension": ".py",
   "mimetype": "text/x-python",
   "name": "python",
   "nbconvert_exporter": "python",
   "pygments_lexer": "ipython2",
   "version": "2.7.10"
  }
 },
 "nbformat": 4,
 "nbformat_minor": 0
}
