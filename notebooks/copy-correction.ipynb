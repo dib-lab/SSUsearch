{
 "cells": [
  {
   "cell_type": "markdown",
   "metadata": {},
   "source": [
    "### Copy corrections is based on [copyrighter](http://www.ncbi.nlm.nih.gov/pubmed/24708850). One copy database for each Greengene taxon at each level is provided by the tool. We will use that database for correcting our Greengene taxonomy abundance and OTU abundance."
   ]
  },
  {
   "cell_type": "code",
   "execution_count": 1,
   "metadata": {
    "collapsed": false
   },
   "outputs": [
    {
     "data": {
      "text/plain": [
       "u'/home/guojiaro/SSUsearch/notebooks'"
      ]
     },
     "execution_count": 1,
     "metadata": {},
     "output_type": "execute_result"
    }
   ],
   "source": [
    "pwd"
   ]
  },
  {
   "cell_type": "code",
   "execution_count": 2,
   "metadata": {
    "collapsed": true
   },
   "outputs": [],
   "source": [
    "### set up directory\n",
    "!mkdir -p ./workdir/copy_correction"
   ]
  },
  {
   "cell_type": "code",
   "execution_count": 3,
   "metadata": {
    "collapsed": false
   },
   "outputs": [
    {
     "name": "stdout",
     "output_type": "stream",
     "text": [
      "/home/guojiaro/SSUsearch/notebooks/workdir/copy_correction\n"
     ]
    }
   ],
   "source": [
    "cd ./workdir/copy_correction"
   ]
  },
  {
   "cell_type": "code",
   "execution_count": 10,
   "metadata": {
    "collapsed": true
   },
   "outputs": [],
   "source": [
    "Prefix='SS'    # name for the analysis run\n",
    "Script_dir='./external_tools/SSUsearch/scripts'\n",
    "Wkdir='./workdir'\n",
    "Design='./data/test/SS.design'\n",
    "Otu_dist_cutoff='0.05'\n",
    "Copy_db='./data/SSUsearch_db/Copy_db.copyrighter.txt'"
   ]
  },
  {
   "cell_type": "code",
   "execution_count": 11,
   "metadata": {
    "collapsed": false
   },
   "outputs": [],
   "source": [
    "import os\n",
    "os.environ.update(\n",
    "    {'Prefix':Prefix,\n",
    "     'Script_dir': os.path.abspath(Script_dir), \n",
    "     'Wkdir': os.path.abspath(Wkdir), \n",
    "     'Otu_dist_cutoff':Otu_dist_cutoff,\n",
    "     'Design': os.path.abspath(Design), \n",
    "     'Copy_db': os.path.abspath(Copy_db)})"
   ]
  },
  {
   "cell_type": "code",
   "execution_count": 17,
   "metadata": {
    "collapsed": false
   },
   "outputs": [],
   "source": [
    "# get input files from '/usr/local/notebooks/workdir/clust'\n",
    "!ln -sf $Wkdir/clust/$Prefix.biom\n",
    "!ln -sf $Wkdir/clust/$Prefix.list\n"
   ]
  },
  {
   "cell_type": "code",
   "execution_count": 22,
   "metadata": {
    "collapsed": false
   },
   "outputs": [
    {
     "name": "stdout",
     "output_type": "stream",
     "text": [
      "\u001b[H\u001b[2J\r\n",
      "\r\n",
      "\r\n",
      "\r\n",
      "\r\n",
      "\r\n",
      "mothur v.1.34.4\r\n",
      "Last updated: 12/22/2014\r\n",
      "\r\n",
      "by\r\n",
      "Patrick D. Schloss\r\n",
      "\r\n",
      "Department of Microbiology & Immunology\r\n",
      "University of Michigan\r\n",
      "pschloss@umich.edu\r\n",
      "http://www.mothur.org\r\n",
      "\r\n",
      "When using, please cite:\r\n",
      "Schloss, P.D., et al., Introducing mothur: Open-source, platform-independent, community-supported software for describing and comparing microbial communities. Appl Environ Microbiol, 2009. 75(23):7537-41.\r\n",
      "\r\n",
      "Distributed under the GNU General Public License\r\n",
      "\r\n",
      "Type 'help()' for information on the commands that are available\r\n",
      "\r\n",
      "Type 'quit()' to exit program\r\n",
      "\r\n",
      "\r\n",
      "\r\n",
      "mothur > classify.otu(list=SS.list, taxonomy=SS.taxonomy, label=0.03)\r\n",
      "reftaxonomy is not required, but if given will keep the rankIDs in the summary file static.\r\n",
      "0.03\t147\r\n",
      "\r\n",
      "Output File Names: \r\n",
      "SS.0.03.cons.taxonomy\r\n",
      "SS.0.03.cons.tax.summary\r\n",
      "\r\n",
      "\r\n",
      "mothur > quit()\r\n"
     ]
    }
   ],
   "source": [
    "# get Greengene taxonomy\n",
    "!cat $Wkdir/*.ssu.out/*.gg.taxonomy > $Prefix.taxonomy\n",
    "!mothur \"#classify.otu(list=$Prefix.list, taxonomy=$Prefix.taxonomy, label=$Otu_dist_cutoff)\""
   ]
  },
  {
   "cell_type": "code",
   "execution_count": 24,
   "metadata": {
    "collapsed": false
   },
   "outputs": [
    {
     "name": "stdout",
     "output_type": "stream",
     "text": [
      "\u001b[H\u001b[2J\n",
      "\n",
      "\n",
      "\n",
      "\n",
      "\n",
      "mothur v.1.34.4\n",
      "Last updated: 12/22/2014\n",
      "\n",
      "by\n",
      "Patrick D. Schloss\n",
      "\n",
      "Department of Microbiology & Immunology\n",
      "University of Michigan\n",
      "pschloss@umich.edu\n",
      "http://www.mothur.org\n",
      "\n",
      "When using, please cite:\n",
      "Schloss, P.D., et al., Introducing mothur: Open-source, platform-independent, community-supported software for describing and comparing microbial communities. Appl Environ Microbiol, 2009. 75(23):7537-41.\n",
      "\n",
      "Distributed under the GNU General Public License\n",
      "\n",
      "Type 'help()' for information on the commands that are available\n",
      "\n",
      "Type 'quit()' to exit program\n",
      "\n",
      "\n",
      "\n",
      "mothur > make.shared(biom=SS.biom)\n",
      "\n",
      "userLabel\n",
      "\n",
      "Output File Names: \n",
      "SS.shared\n",
      "SS.1c.rabund\n",
      "SS.1d.rabund\n",
      "SS.2c.rabund\n",
      "SS.2d.rabund\n",
      "\n",
      "\n",
      "mothur > quit()\n",
      "\u001b[H\u001b[2J\n",
      "\n",
      "\n",
      "\n",
      "\n",
      "\n",
      "mothur v.1.34.4\n",
      "Last updated: 12/22/2014\n",
      "\n",
      "by\n",
      "Patrick D. Schloss\n",
      "\n",
      "Department of Microbiology & Immunology\n",
      "University of Michigan\n",
      "pschloss@umich.edu\n",
      "http://www.mothur.org\n",
      "\n",
      "When using, please cite:\n",
      "Schloss, P.D., et al., Introducing mothur: Open-source, platform-independent, community-supported software for describing and comparing microbial communities. Appl Environ Microbiol, 2009. 75(23):7537-41.\n",
      "\n",
      "Distributed under the GNU General Public License\n",
      "\n",
      "Type 'help()' for information on the commands that are available\n",
      "\n",
      "Type 'quit()' to exit program\n",
      "\n",
      "\n",
      "\n",
      "mothur > make.biom(shared=SS.shared, constaxonomy=SS.0.03.cons.taxonomy)\n",
      "userLabel\n",
      "\n",
      "Output File Names: \n",
      "SS.userLabel.biom\n",
      "\n",
      "\n",
      "mothur > quit()\n"
     ]
    }
   ],
   "source": [
    "!mothur \"#make.shared(biom=$Prefix.biom)\"\n",
    "\n",
    "# do copy correction and even sampling\n",
    "!python $Script_dir/copyrighter-otutable.py $Copy_db \\\n",
    "    $Prefix.$Otu_dist_cutoff.cons.taxonomy \\\n",
    "    $Prefix.shared $Prefix.cc.shared\n",
    "    \n",
    "!mv $Prefix.cc.shared $Prefix.shared\n",
    "!mothur \"#make.biom(shared=$Prefix.shared, constaxonomy=$Prefix.$Otu_dist_cutoff.cons.taxonomy);\"\n",
    "!mv $Prefix.userLabel.biom $Prefix.biom\n",
    "!rm -f mothur.*.logfile"
   ]
  },
  {
   "cell_type": "markdown",
   "metadata": {},
   "source": [
    "### SS.biom can be further used for diversity analysis, important but focus of this tutorial (details see [mothur wiki](http://www.mothur.org/wiki/454_SOP))."
   ]
  },
  {
   "cell_type": "code",
   "execution_count": 25,
   "metadata": {
    "collapsed": false
   },
   "outputs": [
    {
     "name": "stdout",
     "output_type": "stream",
     "text": [
      "\u001b[H\u001b[2J\n",
      "\n",
      "\n",
      "\n",
      "\n",
      "\n",
      "mothur v.1.34.4\n",
      "Last updated: 12/22/2014\n",
      "\n",
      "by\n",
      "Patrick D. Schloss\n",
      "\n",
      "Department of Microbiology & Immunology\n",
      "University of Michigan\n",
      "pschloss@umich.edu\n",
      "http://www.mothur.org\n",
      "\n",
      "When using, please cite:\n",
      "Schloss, P.D., et al., Introducing mothur: Open-source, platform-independent, community-supported software for describing and comparing microbial communities. Appl Environ Microbiol, 2009. 75(23):7537-41.\n",
      "\n",
      "Distributed under the GNU General Public License\n",
      "\n",
      "Type 'help()' for information on the commands that are available\n",
      "\n",
      "Type 'quit()' to exit program\n",
      "\n",
      "\n",
      "\n",
      "mothur > make.shared(biom=SS.biom)\n",
      "\n",
      "userLabel\n",
      "\n",
      "Output File Names: \n",
      "SS.shared\n",
      "SS.1c.rabund\n",
      "SS.1d.rabund\n",
      "SS.2c.rabund\n",
      "SS.2d.rabund\n",
      "\n",
      "\n",
      "mothur > sub.sample(shared=SS.shared)\n",
      "Sampling 7 from each group.\n",
      "userLabel\n",
      "\n",
      "Output File Names: \n",
      "SS.userLabel.subsample.shared\n",
      "\n",
      "\n",
      "mothur > summary.single(calc=nseqs-coverage-sobs-chao-shannon-invsimpson)\n",
      "Using SS.userLabel.subsample.shared as input file for the shared parameter.\n",
      "\n",
      "Processing group 1c\n",
      "\n",
      "userLabel\n",
      "\n",
      "Processing group 1d\n",
      "\n",
      "userLabel\n",
      "\n",
      "Processing group 2c\n",
      "\n",
      "userLabel\n",
      "\n",
      "Processing group 2d\n",
      "\n",
      "userLabel\n",
      "\n",
      "Output File Names: \n",
      "SS.userLabel.subsample.groups.summary\n",
      "\n",
      "\n",
      "mothur > dist.shared(calc=braycurtis)\n",
      "Using SS.userLabel.subsample.shared as input file for the shared parameter.\n",
      "\n",
      "Using 1 processors.\n",
      "userLabel\n",
      "\n",
      "Output File Names: \n",
      "SS.userLabel.subsample.braycurtis.userLabel.lt.dist\n",
      "\n",
      "\n",
      "mothur > pcoa(phylip=SS.userLabel.subsample.braycurtis.userLabel.lt.dist)\n",
      "\n",
      "Processing...\n",
      "Rsq 1 axis: 0.749418\n",
      "Rsq 2 axis: 0.926937\n",
      "Rsq 3 axis: 1\n",
      "\n",
      "Output File Names: \n",
      "SS.userLabel.subsample.braycurtis.userLabel.lt.pcoa.axes\n",
      "SS.userLabel.subsample.braycurtis.userLabel.lt.pcoa.loadings\n",
      "\n",
      "\n",
      "mothur > nmds(phylip=SS.userLabel.subsample.braycurtis.userLabel.lt.dist)\n",
      "Processing Dimension: 2\n",
      "1\n",
      "2\n",
      "3\n",
      "4\n",
      "5\n",
      "6\n",
      "7\n",
      "8\n",
      "9\n",
      "10\n",
      "\n",
      "Number of dimensions:\t2\n",
      "Lowest stress :\t0.115236\n",
      "R-squared for configuration:\t0.8053\n",
      "\n",
      "Output File Names: \n",
      "SS.userLabel.subsample.braycurtis.userLabel.lt.nmds.iters\n",
      "SS.userLabel.subsample.braycurtis.userLabel.lt.nmds.stress\n",
      "SS.userLabel.subsample.braycurtis.userLabel.lt.nmds.axes\n",
      "\n",
      "\n",
      "mothur > amova(phylip=SS.userLabel.subsample.braycurtis.userLabel.lt.dist, design=/usr/local/notebooks/data/test/SS.design)\n",
      "c-d\tAmong\tWithin\tTotal\n",
      "SS\t0.433674\t0.867347\t1.30102\n",
      "df\t1\t2\t3\n",
      "MS\t0.433674\t0.433674\n",
      "\n",
      "Fs:\t1\n",
      "p-value: 0.656\n",
      "\n",
      "Experiment-wise error rate: 0.05\n",
      "If you have borderline P-values, you should try increasing the number of iterations\n",
      "\n",
      "Output File Names: \n",
      "SS.userLabel.subsample.braycurtis.userLabel.lt.amova\n",
      "\n",
      "\n",
      "mothur > tree.shared(calc=braycurtis)\n",
      "Using SS.userLabel.subsample.shared as input file for the shared parameter.\n",
      "\n",
      "Using 1 processors.\n",
      "userLabel\n",
      "\n",
      "Output File Names: \n",
      "SS.userLabel.subsample.braycurtis.userLabel.tre\n",
      "\n",
      "\n",
      "mothur > unifrac.weighted(tree=SS.userLabel.subsample.braycurtis.userLabel.tre, group=/usr/local/notebooks/data/test/SS.design, random=T)\n",
      "\n",
      "Using 1 processors.\n",
      "Tree#\tGroups\tWScore\tWSig\n",
      "1\tc-d\t0.981481\t<0.0010\n",
      "It took 0 secs to run unifrac.weighted.\n",
      "\n",
      "Output File Names: \n",
      "SS.userLabel.subsample.braycurtis.userLabel.trewsummary\n",
      "SS.userLabel.subsample.braycurtis.userLabel.tre1.weighted\n",
      "\n",
      "\n",
      "mothur > quit()\n"
     ]
    }
   ],
   "source": [
    "!mothur \"#make.shared(biom=$Prefix.biom); sub.sample(shared=$Prefix.shared); summary.single(calc=nseqs-coverage-sobs-chao-shannon-invsimpson); dist.shared(calc=braycurtis); pcoa(phylip=$Prefix.userLabel.subsample.braycurtis.userLabel.lt.dist); nmds(phylip=$Prefix.userLabel.subsample.braycurtis.userLabel.lt.dist); amova(phylip=$Prefix.userLabel.subsample.braycurtis.userLabel.lt.dist, design=$Design); tree.shared(calc=braycurtis); unifrac.weighted(tree=$Prefix.userLabel.subsample.braycurtis.userLabel.tre, group=$Design, random=T)\"\n",
    "!rm -f mothur.*.logfile; \n",
    "!rm -f *.rabund"
   ]
  },
  {
   "cell_type": "code",
   "execution_count": null,
   "metadata": {
    "collapsed": true
   },
   "outputs": [],
   "source": []
  }
 ],
 "metadata": {
  "kernelspec": {
   "display_name": "Python 2",
   "language": "python",
   "name": "python2"
  },
  "language_info": {
   "codemirror_mode": {
    "name": "ipython",
    "version": 2
   },
   "file_extension": ".py",
   "mimetype": "text/x-python",
   "name": "python",
   "nbconvert_exporter": "python",
   "pygments_lexer": "ipython2",
   "version": "2.7.9"
  }
 },
 "nbformat": 4,
 "nbformat_minor": 0
}
