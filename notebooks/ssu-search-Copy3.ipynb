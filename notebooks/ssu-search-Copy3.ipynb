{
 "cells": [
  {
   "cell_type": "markdown",
   "metadata": {},
   "source": [
    "###Set up working directory"
   ]
  },
  {
   "cell_type": "code",
   "execution_count": 1,
   "metadata": {
    "collapsed": true
   },
   "outputs": [],
   "source": [
    "mkdir -p /usr/local/notebooks/workdir"
   ]
  },
  {
   "cell_type": "code",
   "execution_count": 2,
   "metadata": {
    "collapsed": false
   },
   "outputs": [
    {
     "name": "stdout",
     "output_type": "stream",
     "text": [
      "/usr/local/notebooks/workdir\n"
     ]
    }
   ],
   "source": [
    "cd /usr/local/notebooks/workdir"
   ]
  },
  {
   "cell_type": "code",
   "execution_count": 3,
   "metadata": {
    "collapsed": false
   },
   "outputs": [
    {
     "name": "stdout",
     "output_type": "stream",
     "text": [
      "1c.fa  1d.fa  2c.fa  2d.fa\r\n"
     ]
    }
   ],
   "source": [
    "#check seqfile files to process in data directory\n",
    "!ls /usr/local/notebooks/data/test/data"
   ]
  },
  {
   "cell_type": "markdown",
   "metadata": {},
   "source": [
    "#README\n",
    "\n",
    "## This part of pipeline works with one seqfile a time. You just need to change the \"Seqfile\" and maybe other parameters in the two cells bellow.\n",
    "\n",
    "## To run commands, click \"Cell\" then \"Run All\". After it finishes, you will see \"pipeline run *** pipeline runs successsfully :)\" at bottom of this pape.\n",
    "\n",
    "##If your computer has many processors, there are two ways to make use of the resource:\n",
    "\n",
    "1. Set \"Cpu\" higher number.\n",
    "\n",
    "2. make more copies of this notebook (click \"File\" then \"Make a copy\" in menu bar), so you can run the step on multiple files at the same time.\n",
    "\n",
    "(Again we assume the \"Seqfile\" is quality trimmed.)"
   ]
  },
  {
   "cell_type": "markdown",
   "metadata": {},
   "source": [
    "###Here we will process one file at a time; set the \"Seqfile\" variable to the seqfile name to be be processed"
   ]
  },
  {
   "cell_type": "code",
   "execution_count": 4,
   "metadata": {
    "collapsed": false
   },
   "outputs": [],
   "source": [
    "Seqfile='/usr/local/notebooks/data/test/data/2d.fa'"
   ]
  },
  {
   "cell_type": "markdown",
   "metadata": {},
   "source": [
    "###Other parameters to set"
   ]
  },
  {
   "cell_type": "code",
   "execution_count": 5,
   "metadata": {
    "collapsed": true
   },
   "outputs": [],
   "source": [
    "Cpu='2'   # number of maxixum threads for search and alignment\n",
    "Hmm='/usr/local/notebooks/data/SSUsearch_db/Hmm.ssu.hmm'   # hmm model for ssu\n",
    "Gene='ssu'\n",
    "Script_dir='/usr/local/notebooks/external_tools/SSUsearch/scripts'\n",
    "Gene_model_org='/usr/local/notebooks/data/SSUsearch_db/Gene_model_org.16s_ecoli_J01695.fasta'\n",
    "Ali_template='/usr/local/notebooks/data/SSUsearch_db/Ali_template.silva_ssu.fasta'\n",
    "\n",
    "Start='577'  #pick regions for de novo clustering\n",
    "End='727'\n",
    "Len_cutoff='100' # min length for reads picked for the region\n",
    "\n",
    "Gene_tax='/usr/local/notebooks/data/SSUsearch_db/Gene_tax.silva_taxa_family.tax' # silva 108 ref\n",
    "Gene_db='/usr/local/notebooks/data/SSUsearch_db/Gene_db.silva_108_rep_set.fasta'\n",
    "\n",
    "Gene_tax_cc='/usr/local/notebooks/data/SSUsearch_db/Gene_tax_cc.greengene_97_otus.tax' # greengene 2012.10 ref for copy correction\n",
    "Gene_db_cc='/usr/local/notebooks/data/SSUsearch_db/Gene_db_cc.greengene_97_otus.fasta'"
   ]
  },
  {
   "cell_type": "code",
   "execution_count": 6,
   "metadata": {
    "collapsed": false
   },
   "outputs": [],
   "source": [
    "import os\n",
    "Filename=os.path.basename(Seqfile)\n",
    "Tag=Filename.split('.')[0]"
   ]
  },
  {
   "cell_type": "code",
   "execution_count": 7,
   "metadata": {
    "collapsed": false
   },
   "outputs": [],
   "source": [
    "import os\n",
    "os.environ.update(\n",
    "    {'Cpu':Cpu, \n",
    "     'Hmm':Hmm, \n",
    "     'Gene':Gene, \n",
    "     'Seqfile':Seqfile, \n",
    "     'Filename':Filename, \n",
    "     'Tag':Tag, \n",
    "     'Script_dir':Script_dir, \n",
    "     'Gene_model_org':Gene_model_org, \n",
    "     'Ali_template':Ali_template, \n",
    "     'Start':Start, \n",
    "     'End':End,\n",
    "     'Len_cutoff':Len_cutoff,\n",
    "     'Gene_tax':Gene_tax, \n",
    "     'Gene_db':Gene_db, \n",
    "     'Gene_tax_cc':Gene_tax_cc, \n",
    "     'Gene_db_cc':Gene_db_cc})"
   ]
  },
  {
   "cell_type": "code",
   "execution_count": 8,
   "metadata": {
    "collapsed": false
   },
   "outputs": [
    {
     "name": "stdout",
     "output_type": "stream",
     "text": [
      "*** make sure: parameters are right\n",
      "Seqfile: /usr/local/notebooks/data/test/data/2d.fa\n",
      "Cpu: 2\n",
      "Filename: 2d.fa\n",
      "Tag: 2d\n"
     ]
    }
   ],
   "source": [
    "!echo \"*** make sure: parameters are right\"\n",
    "!echo \"Seqfile: $Seqfile\\nCpu: $Cpu\\nFilename: $Filename\\nTag: $Tag\""
   ]
  },
  {
   "cell_type": "code",
   "execution_count": 9,
   "metadata": {
    "collapsed": true
   },
   "outputs": [],
   "source": [
    "mkdir -p $Tag.ssu.out"
   ]
  },
  {
   "cell_type": "code",
   "execution_count": 10,
   "metadata": {
    "collapsed": true
   },
   "outputs": [],
   "source": [
    "### start hmmsearch"
   ]
  },
  {
   "cell_type": "code",
   "execution_count": 11,
   "metadata": {
    "collapsed": false
   },
   "outputs": [
    {
     "name": "stdout",
     "output_type": "stream",
     "text": [
      "*** hmmsearch starting\n",
      "0.93user 0.04system 0:00.98elapsed 99%CPU (0avgtext+0avgdata 64976maxresident)k\n",
      "32inputs+40outputs (0major+7581minor)pagefaults 0swaps\n",
      "*** hmmsearch finished\n"
     ]
    }
   ],
   "source": [
    "!echo \"*** hmmsearch starting\"\n",
    "!time hmmsearch --incE 10 --incdomE 10 --cpu $Cpu \\\n",
    "  --tblout $Tag.ssu.out/$Tag.qc.$Gene.hmmtblout \\\n",
    "  -o /dev/null \\\n",
    "  $Hmm $Seqfile\n",
    "!echo \"*** hmmsearch finished\""
   ]
  },
  {
   "cell_type": "code",
   "execution_count": 12,
   "metadata": {
    "collapsed": false
   },
   "outputs": [
    {
     "name": "stdout",
     "output_type": "stream",
     "text": [
      "50 hits at 10 cutoff\r\n"
     ]
    }
   ],
   "source": [
    "!python $Script_dir/get-seq-from-hmmtblout.py \\\n",
    "    $Tag.ssu.out/$Tag.qc.$Gene.hmmtblout \\\n",
    "    $Seqfile \\\n",
    "    $Tag.ssu.out/$Tag.qc.$Gene"
   ]
  },
  {
   "cell_type": "markdown",
   "metadata": {
    "collapsed": false
   },
   "source": [
    "### Pass hits to mothur aligner"
   ]
  },
  {
   "cell_type": "code",
   "execution_count": 13,
   "metadata": {
    "collapsed": false
   },
   "outputs": [
    {
     "name": "stdout",
     "output_type": "stream",
     "text": [
      "*** Starting mothur align\n",
      "\u001b[H\u001b[2J\n",
      "\n",
      "\n",
      "\n",
      "\n",
      "\n",
      "mothur v.1.34.4\n",
      "Last updated: 12/22/2014\n",
      "\n",
      "by\n",
      "Patrick D. Schloss\n",
      "\n",
      "Department of Microbiology & Immunology\n",
      "University of Michigan\n",
      "pschloss@umich.edu\n",
      "http://www.mothur.org\n",
      "\n",
      "When using, please cite:\n",
      "Schloss, P.D., et al., Introducing mothur: Open-source, platform-independent, community-supported software for describing and comparing microbial communities. Appl Environ Microbiol, 2009. 75(23):7537-41.\n",
      "\n",
      "Distributed under the GNU General Public License\n",
      "\n",
      "Type 'help()' for information on the commands that are available\n",
      "\n",
      "Type 'quit()' to exit program\n",
      "\n",
      "\n",
      "\n",
      "mothur > align.seqs(candidate=2d.ssu.out/2d.qc.ssu.RFadded, template=/usr/local/notebooks/data/SSUsearch_db/Ali_template.silva_ssu.fasta, threshold=0.5, flip=t, processors=2)\n",
      "\n",
      "Using 2 processors.\n",
      "\n",
      "Reading in the /usr/local/notebooks/data/SSUsearch_db/Ali_template.silva_ssu.fasta template sequences...\tDONE.\n",
      "It took 25 to read  18491 sequences.\n",
      "Aligning sequences from 2d.ssu.out/2d.qc.ssu.RFadded ...\n",
      "24\n",
      "27\n",
      "It took 1 secs to align 51 sequences.\n",
      "\n",
      "\n",
      "Output File Names: \n",
      "2d.ssu.out/2d.qc.ssu.align\n",
      "2d.ssu.out/2d.qc.ssu.align.report\n",
      "\n",
      "[WARNING]: your sequence names contained ':'.  I changed them to '_' to avoid problems in your downstream analysis.\n",
      "\n",
      "mothur > quit()\n",
      "27.00user 2.55system 0:29.12elapsed 101%CPU (0avgtext+0avgdata 4881696maxresident)k\n",
      "0inputs+7672outputs (0major+399020minor)pagefaults 0swaps\n"
     ]
    }
   ],
   "source": [
    "!echo \"*** Starting mothur align\"\n",
    "!cat  $Gene_model_org $Tag.ssu.out/$Tag.qc.$Gene > $Tag.ssu.out/$Tag.qc.$Gene.RFadded\n",
    "\n",
    "# mothur does not allow tab between its flags, thus no indents here\n",
    "!time mothur \"#align.seqs(candidate=$Tag.ssu.out/$Tag.qc.$Gene.RFadded, template=$Ali_template, threshold=0.5, flip=t, processors=$Cpu)\"\n",
    "\n",
    "!rm -f mothur.*.logfile"
   ]
  },
  {
   "cell_type": "markdown",
   "metadata": {},
   "source": [
    "### Get aligned seqs that have > 50% matched to references"
   ]
  },
  {
   "cell_type": "code",
   "execution_count": 14,
   "metadata": {
    "collapsed": false
   },
   "outputs": [
    {
     "name": "stdout",
     "output_type": "stream",
     "text": [
      "0 bad seqs out of 51 total are removed from alignment\r\n"
     ]
    }
   ],
   "source": [
    "!python $Script_dir/mothur-align-report-parser.py \\\n",
    "    $Tag.ssu.out/$Tag.qc.$Gene.align.report \\\n",
    "    $Tag.ssu.out/$Tag.qc.$Gene.align \\\n",
    "    $Tag.ssu.out/$Tag.qc.$Gene.align.filter \\\n",
    "    0.5\n",
    "    "
   ]
  },
  {
   "cell_type": "code",
   "execution_count": 15,
   "metadata": {
    "collapsed": false
   },
   "outputs": [],
   "source": [
    "!python $Script_dir/remove-gap.py $Tag.ssu.out/$Tag.qc.$Gene.align.filter $Tag.ssu.out/$Tag.qc.$Gene.align.filter.fa"
   ]
  },
  {
   "cell_type": "markdown",
   "metadata": {},
   "source": [
    "### Search is done here (the computational intensive part). Hooray!\n",
    "\n",
    "- \\$Tag.ssu.out/\\$Tag.qc.\\$Gene.align.filter:        \n",
    "    aligned SSU rRNA gene fragments\n",
    "    \n",
    "    \n",
    "\n",
    "- \\$Tag.ssu.out/\\$Tag.qc.\\$Gene.align.filter.fa:     \n",
    "    unaligned SSU rRNA gene fragments\n",
    "    "
   ]
  },
  {
   "cell_type": "markdown",
   "metadata": {
    "collapsed": false
   },
   "source": [
    "### Extract the reads mapped 150bp region in V4 (577-727 in *E.coli* SSU rRNA gene position) for unsupervised clustering"
   ]
  },
  {
   "cell_type": "code",
   "execution_count": 8,
   "metadata": {
    "collapsed": false
   },
   "outputs": [
    {
     "name": "stdout",
     "output_type": "stream",
     "text": [
      "50 sequences are matched to 577-727 region\r\n"
     ]
    }
   ],
   "source": [
    "!python $Script_dir/region-cut.py $Tag.ssu.out/$Tag.qc.$Gene.align.filter $Start $End $Len_cutoff\n",
    "\n",
    "!mv $Tag.ssu.out/$Tag.qc.$Gene.align.filter.\"$Start\"to\"$End\".cut.lenscreen $Tag.ssu.out/$Tag.forclust"
   ]
  },
  {
   "cell_type": "markdown",
   "metadata": {
    "collapsed": false
   },
   "source": [
    "### Classify SSU rRNA gene seqs using SILVA"
   ]
  },
  {
   "cell_type": "code",
   "execution_count": 17,
   "metadata": {
    "collapsed": false,
    "scrolled": false
   },
   "outputs": [
    {
     "name": "stdout",
     "output_type": "stream",
     "text": [
      "\u001b[H\u001b[2J\n",
      "\n",
      "\n",
      "\n",
      "\n",
      "\n",
      "mothur v.1.34.4\n",
      "Last updated: 12/22/2014\n",
      "\n",
      "by\n",
      "Patrick D. Schloss\n",
      "\n",
      "Department of Microbiology & Immunology\n",
      "University of Michigan\n",
      "pschloss@umich.edu\n",
      "http://www.mothur.org\n",
      "\n",
      "When using, please cite:\n",
      "Schloss, P.D., et al., Introducing mothur: Open-source, platform-independent, community-supported software for describing and comparing microbial communities. Appl Environ Microbiol, 2009. 75(23):7537-41.\n",
      "\n",
      "Distributed under the GNU General Public License\n",
      "\n",
      "Type 'help()' for information on the commands that are available\n",
      "\n",
      "Type 'quit()' to exit program\n",
      "\n",
      "\n",
      "\n",
      "mothur > classify.seqs(fasta=2d.ssu.out/2d.qc.ssu.align.filter.fa, template=/usr/local/notebooks/data/SSUsearch_db/Gene_db.silva_108_rep_set.fasta, taxonomy=/usr/local/notebooks/data/SSUsearch_db/Gene_tax.silva_taxa_family.tax, cutoff=50, processors=2)\n",
      "\n",
      "Using 2 processors.\n",
      "Reading template taxonomy...     DONE.\n",
      "Reading template probabilities...     DONE.\n",
      "It took 20 seconds get probabilities. \n",
      "Classifying sequences from 2d.ssu.out/2d.qc.ssu.align.filter.fa ...\n",
      "Processing sequence: 25\n",
      "Processing sequence: 25\n",
      "\n",
      "It took 2 secs to classify 50 sequences.\n",
      "\n",
      "\n",
      "It took 0 secs to create the summary file for 50 sequences.\n",
      "\n",
      "\n",
      "Output File Names: \n",
      "2d.ssu.out/2d.qc.ssu.align.filter.silva_taxa_family.wang.taxonomy\n",
      "2d.ssu.out/2d.qc.ssu.align.filter.silva_taxa_family.wang.tax.summary\n",
      "\n",
      "\n",
      "mothur > quit()\n"
     ]
    }
   ],
   "source": [
    "!rm -f $Tag.ssu.out/$Tag.qc.$Gene.align.filter.*.wang.taxonomy\n",
    "!mothur \"#classify.seqs(fasta=$Tag.ssu.out/$Tag.qc.$Gene.align.filter.fa, template=$Gene_db, taxonomy=$Gene_tax, cutoff=50, processors=$Cpu)\"\n",
    "!mv $Tag.ssu.out/$Tag.qc.$Gene.align.filter.*.wang.taxonomy \\\n",
    "    $Tag.ssu.out/$Tag.qc.$Gene.align.filter.wang.silva.taxonomy"
   ]
  },
  {
   "cell_type": "code",
   "execution_count": 18,
   "metadata": {
    "collapsed": false
   },
   "outputs": [],
   "source": [
    "!python $Script_dir/count-taxon.py \\\n",
    "    $Tag.ssu.out/$Tag.qc.$Gene.align.filter.wang.silva.taxonomy \\\n",
    "    $Tag.ssu.out/$Tag.qc.$Gene.align.filter.wang.silva.taxonomy.count\n",
    "!rm -f mothur.*.logfile"
   ]
  },
  {
   "cell_type": "markdown",
   "metadata": {},
   "source": [
    "###  Classify SSU rRNA gene seqs with Greengene for copy  correction later"
   ]
  },
  {
   "cell_type": "code",
   "execution_count": 19,
   "metadata": {
    "collapsed": false
   },
   "outputs": [
    {
     "name": "stdout",
     "output_type": "stream",
     "text": [
      "\u001b[H\u001b[2J\n",
      "\n",
      "\n",
      "\n",
      "\n",
      "\n",
      "mothur v.1.34.4\n",
      "Last updated: 12/22/2014\n",
      "\n",
      "by\n",
      "Patrick D. Schloss\n",
      "\n",
      "Department of Microbiology & Immunology\n",
      "University of Michigan\n",
      "pschloss@umich.edu\n",
      "http://www.mothur.org\n",
      "\n",
      "When using, please cite:\n",
      "Schloss, P.D., et al., Introducing mothur: Open-source, platform-independent, community-supported software for describing and comparing microbial communities. Appl Environ Microbiol, 2009. 75(23):7537-41.\n",
      "\n",
      "Distributed under the GNU General Public License\n",
      "\n",
      "Type 'help()' for information on the commands that are available\n",
      "\n",
      "Type 'quit()' to exit program\n",
      "\n",
      "\n",
      "\n",
      "mothur > classify.seqs(fasta=2d.ssu.out/2d.qc.ssu.align.filter.fa, template=/usr/local/notebooks/data/SSUsearch_db/Gene_db_cc.greengene_97_otus.fasta, taxonomy=/usr/local/notebooks/data/SSUsearch_db/Gene_tax_cc.greengene_97_otus.tax, cutoff=50, processors=2)\n",
      "\n",
      "Using 2 processors.\n",
      "Reading template taxonomy...     DONE.\n",
      "Reading template probabilities...     DONE.\n",
      "It took 15 seconds get probabilities. \n",
      "Classifying sequences from 2d.ssu.out/2d.qc.ssu.align.filter.fa ...\n",
      "Processing sequence: 25\n",
      "Processing sequence: 25\n",
      "\n",
      "It took 1 secs to classify 50 sequences.\n",
      "\n",
      "\n",
      "It took 0 secs to create the summary file for 50 sequences.\n",
      "\n",
      "\n",
      "Output File Names: \n",
      "2d.ssu.out/2d.qc.ssu.align.filter.greengene_97_otus.wang.taxonomy\n",
      "2d.ssu.out/2d.qc.ssu.align.filter.greengene_97_otus.wang.tax.summary\n",
      "\n",
      "\n",
      "mothur > quit()\n"
     ]
    }
   ],
   "source": [
    "!rm -f $Tag.ssu.out/$Tag.qc.$Gene.align.filter.*.wang.taxonomy\n",
    "!mothur \"#classify.seqs(fasta=$Tag.ssu.out/$Tag.qc.$Gene.align.filter.fa, template=$Gene_db_cc, taxonomy=$Gene_tax_cc, cutoff=50, processors=$Cpu)\"\n",
    "!mv $Tag.ssu.out/$Tag.qc.$Gene.align.filter.*.wang.taxonomy \\\n",
    "    $Tag.ssu.out/$Tag.qc.$Gene.align.filter.wang.gg.taxonomy"
   ]
  },
  {
   "cell_type": "code",
   "execution_count": 20,
   "metadata": {
    "collapsed": false
   },
   "outputs": [],
   "source": [
    "!python $Script_dir/count-taxon.py \\\n",
    "    $Tag.ssu.out/$Tag.qc.$Gene.align.filter.wang.gg.taxonomy \\\n",
    "    $Tag.ssu.out/$Tag.qc.$Gene.align.filter.wang.gg.taxonomy.count\n",
    "!rm -f mothur.*.logfile"
   ]
  },
  {
   "cell_type": "code",
   "execution_count": 21,
   "metadata": {
    "collapsed": false
   },
   "outputs": [
    {
     "name": "stdout",
     "output_type": "stream",
     "text": [
      "2d.577to727\r\n",
      "2d.qc.ssu\r\n",
      "2d.qc.ssu.align\r\n",
      "2d.qc.ssu.align.filter\r\n",
      "2d.qc.ssu.align.filter.577to727.cut\r\n",
      "2d.qc.ssu.align.filter.577to727.cut.lenscreen.fa\r\n",
      "2d.qc.ssu.align.filter.fa\r\n",
      "2d.qc.ssu.align.filter.greengene_97_otus.wang.tax.summary\r\n",
      "2d.qc.ssu.align.filter.silva_taxa_family.wang.tax.summary\r\n",
      "2d.qc.ssu.align.filter.wang.gg.taxonomy\r\n",
      "2d.qc.ssu.align.filter.wang.gg.taxonomy.count\r\n",
      "2d.qc.ssu.align.filter.wang.silva.taxonomy\r\n",
      "2d.qc.ssu.align.filter.wang.silva.taxonomy.count\r\n",
      "2d.qc.ssu.align.report\r\n",
      "2d.qc.ssu.hmmtblout\r\n",
      "2d.qc.ssu.RFadded\r\n"
     ]
    }
   ],
   "source": [
    "# check the output directory\n",
    "!ls $Tag.ssu.out"
   ]
  },
  {
   "cell_type": "markdown",
   "metadata": {},
   "source": [
    "### This part of pipeline (working with one sequence file) finishes here. Next we will combine samples for community analysis (see unsupervised analysis).\n",
    "\n",
    "Following are files useful for community analysis:\n",
    "\n",
    "* 1c.577to727: aligned fasta file of seqs mapped to target region for de novo clustering\n",
    "* 1c.qc.ssu.align.filter: aligned fasta file of all SSU rRNA gene fragments\n",
    "* 1c.qc.ssu.align.filter.wang.gg.taxonomy: Greengene taxonomy (for copy correction)\n",
    "* 1c.qc.ssu.align.filter.wang.silva.taxonomy: SILVA taxonomy"
   ]
  },
  {
   "cell_type": "code",
   "execution_count": 22,
   "metadata": {
    "collapsed": false
   },
   "outputs": [
    {
     "name": "stdout",
     "output_type": "stream",
     "text": [
      "*** pipeline runs successsfully :)\r\n"
     ]
    }
   ],
   "source": [
    "!echo \"*** pipeline runs successsfully :)\""
   ]
  },
  {
   "cell_type": "code",
   "execution_count": null,
   "metadata": {
    "collapsed": true
   },
   "outputs": [],
   "source": []
  }
 ],
 "metadata": {
  "kernelspec": {
   "display_name": "Python 2",
   "language": "python",
   "name": "python2"
  },
  "language_info": {
   "codemirror_mode": {
    "name": "ipython",
    "version": 2
   },
   "file_extension": ".py",
   "mimetype": "text/x-python",
   "name": "python",
   "nbconvert_exporter": "python",
   "pygments_lexer": "ipython2",
   "version": "2.7.9"
  }
 },
 "nbformat": 4,
 "nbformat_minor": 0
}
