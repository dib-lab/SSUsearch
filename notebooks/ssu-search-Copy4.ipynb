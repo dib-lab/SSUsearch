{
 "cells": [
  {
   "cell_type": "markdown",
   "metadata": {},
   "source": [
    "###Set up working directory"
   ]
  },
  {
   "cell_type": "code",
   "execution_count": 30,
   "metadata": {
    "collapsed": false
   },
   "outputs": [
    {
     "name": "stdout",
     "output_type": "stream",
     "text": [
      "/usr/local/notebooks\n"
     ]
    }
   ],
   "source": [
    "cd /usr/local/notebooks"
   ]
  },
  {
   "cell_type": "code",
   "execution_count": 31,
   "metadata": {
    "collapsed": true
   },
   "outputs": [],
   "source": [
    "mkdir -p ./workdir"
   ]
  },
  {
   "cell_type": "code",
   "execution_count": 32,
   "metadata": {
    "collapsed": false
   },
   "outputs": [
    {
     "name": "stdout",
     "output_type": "stream",
     "text": [
      "1c.fa  1d.fa  2c.fa  2d.fa\r\n"
     ]
    }
   ],
   "source": [
    "#check seqfile files to process in data directory (make sure you still remember the data directory)\n",
    "!ls ./data/test/data"
   ]
  },
  {
   "cell_type": "markdown",
   "metadata": {},
   "source": [
    "#README\n",
    "\n",
    "## This part of pipeline search for the SSU rRNA gene fragments, classify them, and extract reads aligned specific region. It is also heavy lifting part of the whole pipeline (more cpu will help).\n",
    "\n",
    "## This part works with one seqfile a time. You just need to change the \"Seqfile\" and maybe other parameters in the two cells bellow.\n",
    "\n",
    "## To run commands, click \"Cell\" then \"Run All\". After it finishes, you will see \"\\*** pipeline runs successsfully :)\" at bottom of this pape.\n",
    "\n",
    "##If your computer has many processors, there are two ways to make use of the resource:\n",
    "\n",
    "1. Set \"Cpu\" higher number.\n",
    "\n",
    "2. make more copies of this notebook (click \"File\" then \"Make a copy\" in menu bar), so you can run the step on multiple files at the same time.\n",
    "\n",
    "(Again we assume the \"Seqfile\" is quality trimmed.)\n",
    "\n",
    "###Here we will process one file at a time; set the \"Seqfile\" variable to the seqfile name to be be processed\n",
    "###First part of seqfile basename (separated by \".\") will be the label of this sample, so named it properly.\n",
    "e.g. for \"/usr/local/notebooks/data/test/data/1c.fa\", \"1c\" will the label of this sample."
   ]
  },
  {
   "cell_type": "code",
   "execution_count": 33,
   "metadata": {
    "collapsed": false
   },
   "outputs": [],
   "source": [
    "Seqfile='./data/test/data/2d.fa'"
   ]
  },
  {
   "cell_type": "markdown",
   "metadata": {},
   "source": [
    "###Other parameters to set"
   ]
  },
  {
   "cell_type": "code",
   "execution_count": 34,
   "metadata": {
    "collapsed": true
   },
   "outputs": [],
   "source": [
    "Cpu='2'   # number of maxixum threads for search and alignment\n",
    "Hmm='./data/SSUsearch_db/Hmm.ssu.hmm'   # hmm model for ssu\n",
    "Gene='ssu'\n",
    "Script_dir='./SSUsearch/scripts'\n",
    "Gene_model_org='./data/SSUsearch_db/Gene_model_org.16s_ecoli_J01695.fasta'\n",
    "Ali_template='./data/SSUsearch_db/Ali_template.silva_ssu.fasta'\n",
    "\n",
    "Start='577'  #pick regions for de novo clustering\n",
    "End='727'\n",
    "Len_cutoff='100' # min length for reads picked for the region\n",
    "\n",
    "Gene_tax='./data/SSUsearch_db/Gene_tax.silva_taxa_family.tax' # silva 108 ref\n",
    "Gene_db='./data/SSUsearch_db/Gene_db.silva_108_rep_set.fasta'\n",
    "\n",
    "Gene_tax_cc='./data/SSUsearch_db/Gene_tax_cc.greengene_97_otus.tax' # greengene 2012.10 ref for copy correction\n",
    "Gene_db_cc='./data/SSUsearch_db/Gene_db_cc.greengene_97_otus.fasta'"
   ]
  },
  {
   "cell_type": "code",
   "execution_count": 35,
   "metadata": {
    "collapsed": false
   },
   "outputs": [],
   "source": [
    "# first part of file basename will the label of this sample\n",
    "import os\n",
    "Filename=os.path.basename(Seqfile)\n",
    "Tag=Filename.split('.')[0]"
   ]
  },
  {
   "cell_type": "code",
   "execution_count": 36,
   "metadata": {
    "collapsed": false
   },
   "outputs": [],
   "source": [
    "import os\n",
    "Hmm=os.path.abspath(Hmm)\n",
    "Seqfile=os.path.abspath(Seqfile)\n",
    "Script_dir=os.path.abspath(Script_dir)\n",
    "Gene_model_org=os.path.abspath(Gene_model_org)\n",
    "Ali_template=os.path.abspath(Ali_template)\n",
    "Gene_tax=os.path.abspath(Gene_tax)\n",
    "Gene_db=os.path.abspath(Gene_db)\n",
    "Gene_tax_cc=os.path.abspath(Gene_tax_cc)\n",
    "Gene_db_cc=os.path.abspath(Gene_db_cc)\n",
    "\n",
    "os.environ.update(\n",
    "    {'Cpu':Cpu, \n",
    "     'Hmm':os.path.abspath(Hmm), \n",
    "     'Gene':Gene, \n",
    "     'Seqfile':os.path.abspath(Seqfile), \n",
    "     'Filename':Filename, \n",
    "     'Tag':Tag, \n",
    "     'Script_dir':os.path.abspath(Script_dir), \n",
    "     'Gene_model_org':os.path.abspath(Gene_model_org), \n",
    "     'Ali_template':os.path.abspath(Ali_template), \n",
    "     'Start':Start, \n",
    "     'End':End,\n",
    "     'Len_cutoff':Len_cutoff,\n",
    "     'Gene_tax':os.path.abspath(Gene_tax), \n",
    "     'Gene_db':os.path.abspath(Gene_db), \n",
    "     'Gene_tax_cc':os.path.abspath(Gene_tax_cc), \n",
    "     'Gene_db_cc':os.path.abspath(Gene_db_cc)})"
   ]
  },
  {
   "cell_type": "code",
   "execution_count": 37,
   "metadata": {
    "collapsed": false
   },
   "outputs": [
    {
     "name": "stdout",
     "output_type": "stream",
     "text": [
      "*** make sure: parameters are right\n",
      "Seqfile: /usr/local/notebooks/data/test/data/1c.fa\n",
      "Cpu: 2\n",
      "Filename: 1c.fa\n",
      "Tag: 1c\n"
     ]
    }
   ],
   "source": [
    "!echo \"*** make sure: parameters are right\"\n",
    "!echo \"Seqfile: $Seqfile\\nCpu: $Cpu\\nFilename: $Filename\\nTag: $Tag\""
   ]
  },
  {
   "cell_type": "code",
   "execution_count": 38,
   "metadata": {
    "collapsed": false
   },
   "outputs": [
    {
     "name": "stdout",
     "output_type": "stream",
     "text": [
      "/usr/local/notebooks/workdir\n"
     ]
    }
   ],
   "source": [
    "cd workdir"
   ]
  },
  {
   "cell_type": "code",
   "execution_count": 39,
   "metadata": {
    "collapsed": true
   },
   "outputs": [],
   "source": [
    "mkdir -p $Tag.ssu.out"
   ]
  },
  {
   "cell_type": "code",
   "execution_count": 40,
   "metadata": {
    "collapsed": true
   },
   "outputs": [],
   "source": [
    "### start hmmsearch"
   ]
  },
  {
   "cell_type": "code",
   "execution_count": 58,
   "metadata": {
    "collapsed": false
   },
   "outputs": [
    {
     "name": "stdout",
     "output_type": "stream",
     "text": [
      "*** hmmsearch starting\n",
      "0.95user 0.04system 0:00.99elapsed 99%CPU (0avgtext+0avgdata 65712maxresident)k\n",
      "0inputs+1080outputs (0major+7774minor)pagefaults 0swaps\n",
      "*** hmmsearch finished\n"
     ]
    }
   ],
   "source": [
    "!echo \"*** hmmsearch starting\"\n",
    "!time hmmsearch --incE 10 --incdomE 10 --cpu $Cpu \\\n",
    "  --domtblout $Tag.ssu.out/$Tag.qc.$Gene.hmmdomtblout \\\n",
    "  -o /dev/null -A $Tag.ssu.out/$Tag.qc.$Gene.sto \\\n",
    "  $Hmm $Seqfile\n",
    "!echo \"*** hmmsearch finished\""
   ]
  },
  {
   "cell_type": "code",
   "execution_count": 60,
   "metadata": {
    "collapsed": false
   },
   "outputs": [
    {
     "name": "stdout",
     "output_type": "stream",
     "text": [
      "parsing hmmdotblout done..\r\n",
      "50 of 114 seqs are kept after hmm parser\r\n"
     ]
    }
   ],
   "source": [
    "!python $Script_dir/get-seq-from-hmmout.py \\\n",
    "    $Tag.ssu.out/$Tag.qc.$Gene.hmmdomtblout \\\n",
    "    $Tag.ssu.out/$Tag.qc.$Gene.sto \\\n",
    "    $Tag.ssu.out/$Tag.qc.$Gene"
   ]
  },
  {
   "cell_type": "markdown",
   "metadata": {
    "collapsed": false
   },
   "source": [
    "### Pass hits to mothur aligner"
   ]
  },
  {
   "cell_type": "code",
   "execution_count": 61,
   "metadata": {
    "collapsed": false
   },
   "outputs": [
    {
     "name": "stdout",
     "output_type": "stream",
     "text": [
      "*** Starting mothur align\n",
      "\u001b[H\u001b[2J\n",
      "\n",
      "\n",
      "\n",
      "\n",
      "\n",
      "mothur v.1.34.4\n",
      "Last updated: 12/22/2014\n",
      "\n",
      "by\n",
      "Patrick D. Schloss\n",
      "\n",
      "Department of Microbiology & Immunology\n",
      "University of Michigan\n",
      "pschloss@umich.edu\n",
      "http://www.mothur.org\n",
      "\n",
      "When using, please cite:\n",
      "Schloss, P.D., et al., Introducing mothur: Open-source, platform-independent, community-supported software for describing and comparing microbial communities. Appl Environ Microbiol, 2009. 75(23):7537-41.\n",
      "\n",
      "Distributed under the GNU General Public License\n",
      "\n",
      "Type 'help()' for information on the commands that are available\n",
      "\n",
      "Type 'quit()' to exit program\n",
      "\n",
      "\n",
      "\n",
      "mothur > align.seqs(candidate=1c.ssu.out/1c.qc.ssu.RFadded, template=/usr/local/notebooks/data/SSUsearch_db/Ali_template.silva_ssu.fasta, threshold=0.5, flip=t, processors=2)\n",
      "\n",
      "Using 2 processors.\n",
      "\n",
      "Reading in the /usr/local/notebooks/data/SSUsearch_db/Ali_template.silva_ssu.fasta template sequences...\tDONE.\n",
      "It took 25 to read  18491 sequences.\n",
      "Aligning sequences from 1c.ssu.out/1c.qc.ssu.RFadded ...\n",
      "23\n",
      "28\n",
      "It took 1 secs to align 51 sequences.\n",
      "\n",
      "\n",
      "Output File Names: \n",
      "1c.ssu.out/1c.qc.ssu.align\n",
      "1c.ssu.out/1c.qc.ssu.align.report\n",
      "\n",
      "[WARNING]: your sequence names contained ':'.  I changed them to '_' to avoid problems in your downstream analysis.\n",
      "\n",
      "mothur > quit()\n",
      "26.96user 2.61system 0:29.14elapsed 101%CPU (0avgtext+0avgdata 4881984maxresident)k\n",
      "0inputs+7792outputs (0major+399013minor)pagefaults 0swaps\n"
     ]
    }
   ],
   "source": [
    "!echo \"*** Starting mothur align\"\n",
    "!cat  $Gene_model_org $Tag.ssu.out/$Tag.qc.$Gene > $Tag.ssu.out/$Tag.qc.$Gene.RFadded\n",
    "\n",
    "# mothur does not allow tab between its flags, thus no indents here\n",
    "!time mothur \"#align.seqs(candidate=$Tag.ssu.out/$Tag.qc.$Gene.RFadded, template=$Ali_template, threshold=0.5, flip=t, processors=$Cpu)\"\n",
    "\n",
    "!rm -f mothur.*.logfile"
   ]
  },
  {
   "cell_type": "markdown",
   "metadata": {},
   "source": [
    "### Get aligned seqs that have > 50% matched to references"
   ]
  },
  {
   "cell_type": "code",
   "execution_count": 62,
   "metadata": {
    "collapsed": false
   },
   "outputs": [
    {
     "name": "stdout",
     "output_type": "stream",
     "text": [
      "0 bad seqs out of 51 total are removed from alignment\r\n"
     ]
    }
   ],
   "source": [
    "!python $Script_dir/mothur-align-report-parser-cutoff.py \\\n",
    "    $Tag.ssu.out/$Tag.qc.$Gene.align.report \\\n",
    "    $Tag.ssu.out/$Tag.qc.$Gene.align \\\n",
    "    $Tag.ssu.out/$Tag.qc.$Gene.align.filter \\\n",
    "    0.5\n",
    "    "
   ]
  },
  {
   "cell_type": "code",
   "execution_count": 63,
   "metadata": {
    "collapsed": false
   },
   "outputs": [],
   "source": [
    "!python $Script_dir/remove-gap.py $Tag.ssu.out/$Tag.qc.$Gene.align.filter $Tag.ssu.out/$Tag.qc.$Gene.align.filter.fa"
   ]
  },
  {
   "cell_type": "markdown",
   "metadata": {},
   "source": [
    "### Search is done here (the computational intensive part). Hooray!\n",
    "\n",
    "- \\$Tag.ssu.out/\\$Tag.qc.\\$Gene.align.filter:        \n",
    "    aligned SSU rRNA gene fragments\n",
    "    \n",
    "    \n",
    "\n",
    "- \\$Tag.ssu.out/\\$Tag.qc.\\$Gene.align.filter.fa:     \n",
    "    unaligned SSU rRNA gene fragments\n",
    "    "
   ]
  },
  {
   "cell_type": "markdown",
   "metadata": {
    "collapsed": false
   },
   "source": [
    "### Extract the reads mapped 150bp region in V4 (577-727 in *E.coli* SSU rRNA gene position) for unsupervised clustering"
   ]
  },
  {
   "cell_type": "code",
   "execution_count": 64,
   "metadata": {
    "collapsed": false
   },
   "outputs": [
    {
     "name": "stdout",
     "output_type": "stream",
     "text": [
      "28 sequences are matched to 577-727 region\r\n"
     ]
    }
   ],
   "source": [
    "!python $Script_dir/region-cut.py $Tag.ssu.out/$Tag.qc.$Gene.align.filter $Start $End $Len_cutoff\n",
    "\n",
    "!mv $Tag.ssu.out/$Tag.qc.$Gene.align.filter.\"$Start\"to\"$End\".cut.lenscreen $Tag.ssu.out/$Tag.forclust"
   ]
  },
  {
   "cell_type": "markdown",
   "metadata": {
    "collapsed": false
   },
   "source": [
    "### Classify SSU rRNA gene seqs using SILVA"
   ]
  },
  {
   "cell_type": "code",
   "execution_count": 65,
   "metadata": {
    "collapsed": false,
    "scrolled": false
   },
   "outputs": [
    {
     "name": "stdout",
     "output_type": "stream",
     "text": [
      "\u001b[H\u001b[2J\n",
      "\n",
      "\n",
      "\n",
      "\n",
      "\n",
      "mothur v.1.34.4\n",
      "Last updated: 12/22/2014\n",
      "\n",
      "by\n",
      "Patrick D. Schloss\n",
      "\n",
      "Department of Microbiology & Immunology\n",
      "University of Michigan\n",
      "pschloss@umich.edu\n",
      "http://www.mothur.org\n",
      "\n",
      "When using, please cite:\n",
      "Schloss, P.D., et al., Introducing mothur: Open-source, platform-independent, community-supported software for describing and comparing microbial communities. Appl Environ Microbiol, 2009. 75(23):7537-41.\n",
      "\n",
      "Distributed under the GNU General Public License\n",
      "\n",
      "Type 'help()' for information on the commands that are available\n",
      "\n",
      "Type 'quit()' to exit program\n",
      "\n",
      "\n",
      "\n",
      "mothur > classify.seqs(fasta=1c.ssu.out/1c.qc.ssu.align.filter.fa, template=/usr/local/notebooks/data/SSUsearch_db/Gene_db.silva_108_rep_set.fasta, taxonomy=/usr/local/notebooks/data/SSUsearch_db/Gene_tax.silva_taxa_family.tax, cutoff=50, processors=2)\n",
      "\n",
      "Using 2 processors.\n",
      "Reading template taxonomy...     DONE.\n",
      "Reading template probabilities...     DONE.\n",
      "It took 20 seconds get probabilities. \n",
      "Classifying sequences from 1c.ssu.out/1c.qc.ssu.align.filter.fa ...\n",
      "Processing sequence: 25\n",
      "Processing sequence: 25\n",
      "\n",
      "It took 0 secs to classify 50 sequences.\n",
      "\n",
      "\n",
      "It took 1 secs to create the summary file for 50 sequences.\n",
      "\n",
      "\n",
      "Output File Names: \n",
      "1c.ssu.out/1c.qc.ssu.align.filter.silva_taxa_family.wang.taxonomy\n",
      "1c.ssu.out/1c.qc.ssu.align.filter.silva_taxa_family.wang.tax.summary\n",
      "\n",
      "\n",
      "mothur > quit()\n"
     ]
    }
   ],
   "source": [
    "!rm -f $Tag.ssu.out/$Tag.qc.$Gene.align.filter.*.wang.taxonomy\n",
    "!mothur \"#classify.seqs(fasta=$Tag.ssu.out/$Tag.qc.$Gene.align.filter.fa, template=$Gene_db, taxonomy=$Gene_tax, cutoff=50, processors=$Cpu)\"\n",
    "!mv $Tag.ssu.out/$Tag.qc.$Gene.align.filter.*.wang.taxonomy \\\n",
    "    $Tag.ssu.out/$Tag.qc.$Gene.align.filter.wang.silva.taxonomy"
   ]
  },
  {
   "cell_type": "code",
   "execution_count": 66,
   "metadata": {
    "collapsed": false
   },
   "outputs": [],
   "source": [
    "!python $Script_dir/count-taxon.py \\\n",
    "    $Tag.ssu.out/$Tag.qc.$Gene.align.filter.wang.silva.taxonomy \\\n",
    "    $Tag.ssu.out/$Tag.qc.$Gene.align.filter.wang.silva.taxonomy.count\n",
    "!rm -f mothur.*.logfile"
   ]
  },
  {
   "cell_type": "markdown",
   "metadata": {},
   "source": [
    "###  Classify SSU rRNA gene seqs with Greengene for copy  correction later"
   ]
  },
  {
   "cell_type": "code",
   "execution_count": 67,
   "metadata": {
    "collapsed": false
   },
   "outputs": [
    {
     "name": "stdout",
     "output_type": "stream",
     "text": [
      "\u001b[H\u001b[2J\n",
      "\n",
      "\n",
      "\n",
      "\n",
      "\n",
      "mothur v.1.34.4\n",
      "Last updated: 12/22/2014\n",
      "\n",
      "by\n",
      "Patrick D. Schloss\n",
      "\n",
      "Department of Microbiology & Immunology\n",
      "University of Michigan\n",
      "pschloss@umich.edu\n",
      "http://www.mothur.org\n",
      "\n",
      "When using, please cite:\n",
      "Schloss, P.D., et al., Introducing mothur: Open-source, platform-independent, community-supported software for describing and comparing microbial communities. Appl Environ Microbiol, 2009. 75(23):7537-41.\n",
      "\n",
      "Distributed under the GNU General Public License\n",
      "\n",
      "Type 'help()' for information on the commands that are available\n",
      "\n",
      "Type 'quit()' to exit program\n",
      "\n",
      "\n",
      "\n",
      "mothur > classify.seqs(fasta=1c.ssu.out/1c.qc.ssu.align.filter.fa, template=/usr/local/notebooks/data/SSUsearch_db/Gene_db_cc.greengene_97_otus.fasta, taxonomy=/usr/local/notebooks/data/SSUsearch_db/Gene_tax_cc.greengene_97_otus.tax, cutoff=50, processors=2)\n",
      "\n",
      "Using 2 processors.\n",
      "Reading template taxonomy...     DONE.\n",
      "Reading template probabilities...     DONE.\n",
      "It took 14 seconds get probabilities. \n",
      "Classifying sequences from 1c.ssu.out/1c.qc.ssu.align.filter.fa ...\n",
      "Processing sequence: 25\n",
      "Processing sequence: 25\n",
      "\n",
      "It took 1 secs to classify 50 sequences.\n",
      "\n",
      "\n",
      "It took 0 secs to create the summary file for 50 sequences.\n",
      "\n",
      "\n",
      "Output File Names: \n",
      "1c.ssu.out/1c.qc.ssu.align.filter.greengene_97_otus.wang.taxonomy\n",
      "1c.ssu.out/1c.qc.ssu.align.filter.greengene_97_otus.wang.tax.summary\n",
      "\n",
      "\n",
      "mothur > quit()\n"
     ]
    }
   ],
   "source": [
    "!rm -f $Tag.ssu.out/$Tag.qc.$Gene.align.filter.*.wang.taxonomy\n",
    "!mothur \"#classify.seqs(fasta=$Tag.ssu.out/$Tag.qc.$Gene.align.filter.fa, template=$Gene_db_cc, taxonomy=$Gene_tax_cc, cutoff=50, processors=$Cpu)\"\n",
    "!mv $Tag.ssu.out/$Tag.qc.$Gene.align.filter.*.wang.taxonomy \\\n",
    "    $Tag.ssu.out/$Tag.qc.$Gene.align.filter.wang.gg.taxonomy"
   ]
  },
  {
   "cell_type": "code",
   "execution_count": 68,
   "metadata": {
    "collapsed": false
   },
   "outputs": [],
   "source": [
    "!python $Script_dir/count-taxon.py \\\n",
    "    $Tag.ssu.out/$Tag.qc.$Gene.align.filter.wang.gg.taxonomy \\\n",
    "    $Tag.ssu.out/$Tag.qc.$Gene.align.filter.wang.gg.taxonomy.count\n",
    "!rm -f mothur.*.logfile"
   ]
  },
  {
   "cell_type": "code",
   "execution_count": 69,
   "metadata": {
    "collapsed": false
   },
   "outputs": [
    {
     "name": "stdout",
     "output_type": "stream",
     "text": [
      "1c.577to727\r\n",
      "1c.cut\r\n",
      "1c.forclust\r\n",
      "1c.qc.ssu\r\n",
      "1c.qc.ssu.align\r\n",
      "1c.qc.ssu.align.filter\r\n",
      "1c.qc.ssu.align.filter.577to727.cut\r\n",
      "1c.qc.ssu.align.filter.577to727.cut.lenscreen.fa\r\n",
      "1c.qc.ssu.align.filter.fa\r\n",
      "1c.qc.ssu.align.filter.greengene_97_otus.wang.tax.summary\r\n",
      "1c.qc.ssu.align.filter.silva_taxa_family.wang.tax.summary\r\n",
      "1c.qc.ssu.align.filter.wang.gg.taxonomy\r\n",
      "1c.qc.ssu.align.filter.wang.gg.taxonomy.count\r\n",
      "1c.qc.ssu.align.filter.wang.silva.taxonomy\r\n",
      "1c.qc.ssu.align.filter.wang.silva.taxonomy.count\r\n",
      "1c.qc.ssu.align.report\r\n",
      "1c.qc.ssu.hmmdomtblout\r\n",
      "1c.qc.ssu.hmmdomtblout.parsedToDictWithScore.pickle\r\n",
      "1c.qc.ssu.hmmtblout\r\n",
      "1c.qc.ssu.RFadded\r\n",
      "1c.qc.ssu.sto\r\n"
     ]
    }
   ],
   "source": [
    "# check the output directory\n",
    "!ls $Tag.ssu.out"
   ]
  },
  {
   "cell_type": "markdown",
   "metadata": {},
   "source": [
    "### This part of pipeline (working with one sequence file) finishes here. Next we will combine samples for community analysis (see unsupervised analysis).\n",
    "\n",
    "Following are files useful for community analysis:\n",
    "\n",
    "* 1c.577to727: aligned fasta file of seqs mapped to target region for de novo clustering\n",
    "* 1c.qc.ssu.align.filter: aligned fasta file of all SSU rRNA gene fragments\n",
    "* 1c.qc.ssu.align.filter.wang.gg.taxonomy: Greengene taxonomy (for copy correction)\n",
    "* 1c.qc.ssu.align.filter.wang.silva.taxonomy: SILVA taxonomy"
   ]
  },
  {
   "cell_type": "code",
   "execution_count": 70,
   "metadata": {
    "collapsed": false
   },
   "outputs": [
    {
     "name": "stdout",
     "output_type": "stream",
     "text": [
      "*** pipeline runs successsfully :)\r\n"
     ]
    }
   ],
   "source": [
    "!echo \"*** pipeline runs successsfully :)\""
   ]
  },
  {
   "cell_type": "code",
   "execution_count": null,
   "metadata": {
    "collapsed": true
   },
   "outputs": [],
   "source": []
  }
 ],
 "metadata": {
  "kernelspec": {
   "display_name": "Python 2",
   "language": "python",
   "name": "python2"
  },
  "language_info": {
   "codemirror_mode": {
    "name": "ipython",
    "version": 2
   },
   "file_extension": ".py",
   "mimetype": "text/x-python",
   "name": "python",
   "nbconvert_exporter": "python",
   "pygments_lexer": "ipython2",
   "version": "2.7.9"
  }
 },
 "nbformat": 4,
 "nbformat_minor": 0
}
