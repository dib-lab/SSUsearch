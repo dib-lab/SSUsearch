{
 "metadata": {
  "name": "ngs-01-install-dropbox"
 },
 "nbformat": 3,
 "worksheets": [
  {
   "cells": [
    {
     "cell_type": "code",
     "input": [
      "cd"
     ],
     "language": "python",
     "outputs": []
    },
    {
     "cell_type": "code",
     "input": [
      "!wget -O dropbox.tar.gz \"http://www.dropbox.com/download/?plat=lnx.x86_64\""
     ],
     "language": "python",
     "outputs": []
    },
    {
     "cell_type": "code",
     "input": [
      "!tar -xzf dropbox.tar.gz"
     ],
     "language": "python",
     "outputs": []
    },
    {
     "cell_type": "code",
     "input": [
      "!~/.dropbox-dist/dropboxd"
     ],
     "language": "python",
     "outputs": []
    },
    {
     "cell_type": "markdown",
     "source": [
      "Now, once you see the message \"This client is not linked to any account...\", visit the link in another tab & log in to Dropbox.",
      "",
      "THEN, go up to 'Kernel', and select 'Interrupt'."
     ]
    },
    {
     "cell_type": "code",
     "input": [
      "# finally: reboot!",
      "!/sbin/shutdown -r now"
     ],
     "language": "python",
     "outputs": []
    },
    {
     "cell_type": "markdown",
     "source": [
      "When the machine restarts, you will have a directory /root/Dropbox that is linked to your dropbox account."
     ]
    }
   ]
  }
 ]
}