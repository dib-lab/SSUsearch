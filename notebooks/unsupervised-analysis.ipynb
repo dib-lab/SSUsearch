{
 "cells": [
  {
   "cell_type": "markdown",
   "metadata": {},
   "source": [
    "### set another directory for unsupervised analysis"
   ]
  },
  {
   "cell_type": "code",
   "execution_count": 212,
   "metadata": {
    "collapsed": true
   },
   "outputs": [],
   "source": [
    "mkdir -p /usr/local/notebooks/workdir/clust"
   ]
  },
  {
   "cell_type": "code",
   "execution_count": 213,
   "metadata": {
    "collapsed": false
   },
   "outputs": [
    {
     "name": "stdout",
     "output_type": "stream",
     "text": [
      "/usr/local/notebooks/workdir/clust\n"
     ]
    }
   ],
   "source": [
    "cd /usr/local/notebooks/workdir/clust"
   ]
  },
  {
   "cell_type": "code",
   "execution_count": 214,
   "metadata": {
    "collapsed": false
   },
   "outputs": [],
   "source": [
    "Prefix='SS'    # name for the analysis run\n",
    "Script_dir='/usr/local/notebooks/external_tools/SSUsearch/scripts'\n",
    "Wkdir='/usr/local/notebooks/workdir'\n",
    "Mcclust_jar='/usr/local/notebooks/external_tools/Clustering/dist/Clustering.jar'\n",
    "Java_xmx='10g'\n",
    "Java_gc_threads='2'\n",
    "Otu_dist_cutoff='0.03'\n",
    "Design='/usr/local/notebooks/data/test/SS.design'\n"
   ]
  },
  {
   "cell_type": "code",
   "execution_count": 215,
   "metadata": {
    "collapsed": false
   },
   "outputs": [],
   "source": [
    "import os\n",
    "os.environ.update(\n",
    "    {'Prefix':Prefix, \n",
    "     'Script_dir':Script_dir, \n",
    "     'Wkdir':Wkdir, \n",
    "     'Mcclust_jar':Mcclust_jar, \n",
    "     'Java_xmx':Java_xmx, \n",
    "     'Java_gc_threads':Java_gc_threads, \n",
    "     'Otu_dist_cutoff':Otu_dist_cutoff, \n",
    "     'Design':Design})"
   ]
  },
  {
   "cell_type": "code",
   "execution_count": 216,
   "metadata": {
    "collapsed": false
   },
   "outputs": [],
   "source": [
    "cat $Wkdir/*.ssu.out/*.forclust > combined_seqs.afa"
   ]
  },
  {
   "cell_type": "code",
   "execution_count": 217,
   "metadata": {
    "collapsed": false
   },
   "outputs": [
    {
     "name": "stdout",
     "output_type": "stream",
     "text": [
      "input is list of files..\r\n"
     ]
    }
   ],
   "source": [
    "# make group file for mcclust and mothur. \n",
    "# first part of the file basename will be the group label, e.g. file \"aa.bb.cc\" will have \"aa\" as group label.\n",
    "!python $Script_dir/make-groupfile.py $Prefix.groups $Wkdir/*.ssu.out/*.forclust"
   ]
  },
  {
   "cell_type": "code",
   "execution_count": 218,
   "metadata": {
    "collapsed": false
   },
   "outputs": [
    {
     "name": "stdout",
     "output_type": "stream",
     "text": [
      "*** Starting mcclust derep\n",
      "Processing combined_seqs.afa\n",
      "Total sequences: 199\n",
      "Unique sequences: 174\n",
      "Dereplication complete: 368\n",
      "0.57user 0.12system 0:00.47elapsed 147%CPU (0avgtext+0avgdata 355728maxresident)k\n",
      "0inputs+192outputs (0major+22898minor)pagefaults 0swaps\n"
     ]
    }
   ],
   "source": [
    "!echo \"*** Starting mcclust derep\"\n",
    "!time java -Xmx$Java_xmx -XX:+UseParallelOldGC -XX:ParallelGCThreads=$Java_gc_threads \\\n",
    "    -jar $Mcclust_jar derep -a -o derep.fasta \\\n",
    "    $Prefix.names temp.txt combined_seqs.afa\n",
    "    \n",
    "!rm temp.txt"
   ]
  },
  {
   "cell_type": "code",
   "execution_count": 219,
   "metadata": {
    "collapsed": false
   },
   "outputs": [
    {
     "name": "stdout",
     "output_type": "stream",
     "text": [
      "Reading sequences(memratio=1.2895267219085598E-4)...\n",
      "Using distance model edu.msu.cme.rdp.alignment.pairwise.rna.UncorrectedDistanceModel\n",
      "Read 174 Nucleotide sequences (memratio=3.869057932748428E-4)\n",
      "Reading ID Mapping from file /usr/local/notebooks/workdir/clust/SS.names\n",
      "Read mapping for 199 sequences (memratio=3.869057932748428E-4)\n",
      "Starting distance computations, predicted max edges=30276, at=Sat Apr 18 06:38:13 UTC 2015\n",
      "Dumping 15051 edges to partial_matrix0 FINAL EDGES (memory ratio=0.001979570661990768)\n",
      "Matrix edges computed: 163\n",
      "Maximum distance: 0.5238095238095238\n",
      "Splits: 1\n",
      "Partition files merged: 6\n",
      "0.62user 0.12system 0:00.37elapsed 203%CPU (0avgtext+0avgdata 239424maxresident)k\n",
      "0inputs+424outputs (0major+17364minor)pagefaults 0swaps\n"
     ]
    }
   ],
   "source": [
    "!time java -Xmx$Java_xmx -XX:+UseParallelOldGC -XX:ParallelGCThreads=$Java_gc_threads \\\n",
    "    -jar $Mcclust_jar dmatrix \\\n",
    "    -l 25 -o matrix.bin -i $Prefix.names -I derep.fasta"
   ]
  },
  {
   "cell_type": "code",
   "execution_count": 220,
   "metadata": {
    "collapsed": false,
    "scrolled": false
   },
   "outputs": [
    {
     "name": "stdout",
     "output_type": "stream",
     "text": [
      "Doing complete linkage clustering with step 0.009999999776482582 (realstep=100)\n",
      "Clustering complete: 341\n",
      "0.82user 0.16system 0:00.48elapsed 201%CPU (0avgtext+0avgdata 329744maxresident)k\n",
      "0inputs+1088outputs (0major+24243minor)pagefaults 0swaps\n",
      "File(s):\t1c 1d 2c 2d \n",
      "\n",
      "Sequences:\t50 49 50 50 \n",
      "\n",
      "*** Replace ':' with '_' in seq names (original illumina name has ':' in them)\n"
     ]
    }
   ],
   "source": [
    "!time java -Xmx$Java_xmx -XX:+UseParallelOldGC -XX:ParallelGCThreads=$Java_gc_threads \\\n",
    "    -jar $Mcclust_jar cluster \\\n",
    "    -i $Prefix.names -s $Prefix.groups -o complete.clust -d matrix.bin\n",
    "\n",
    "!python $Script_dir/mcclust2mothur-list-cutoff.py complete.clust $Prefix.list $Otu_dist_cutoff\n",
    "!sed -i 's/:/_/g' $Prefix.names $Prefix.groups $Prefix.list\n",
    "!echo \"*** Replace ':' with '_' in seq names (original illumina name has ':' in them)\""
   ]
  },
  {
   "cell_type": "code",
   "execution_count": 221,
   "metadata": {
    "collapsed": false
   },
   "outputs": [],
   "source": [
    "!java -jar $Mcclust_jar rep-seqs -c -l -s complete.clust $Otu_dist_cutoff combined_seqs.afa\n",
    "!mv complete.clust_rep_seqs.fasta otu_rep_align.fa"
   ]
  },
  {
   "cell_type": "code",
   "execution_count": 222,
   "metadata": {
    "collapsed": false
   },
   "outputs": [
    {
     "name": "stdout",
     "output_type": "stream",
     "text": [
      "\u001b[H\u001b[2J\n",
      "\n",
      "\n",
      "\n",
      "\n",
      "\n",
      "mothur v.1.34.4\n",
      "Last updated: 12/22/2014\n",
      "\n",
      "by\n",
      "Patrick D. Schloss\n",
      "\n",
      "Department of Microbiology & Immunology\n",
      "University of Michigan\n",
      "pschloss@umich.edu\n",
      "http://www.mothur.org\n",
      "\n",
      "When using, please cite:\n",
      "Schloss, P.D., et al., Introducing mothur: Open-source, platform-independent, community-supported software for describing and comparing microbial communities. Appl Environ Microbiol, 2009. 75(23):7537-41.\n",
      "\n",
      "Distributed under the GNU General Public License\n",
      "\n",
      "Type 'help()' for information on the commands that are available\n",
      "\n",
      "Type 'quit()' to exit program\n",
      "\n",
      "\n",
      "\n",
      "mothur > make.shared(list=SS.list, group=SS.groups, label=0.03)\n",
      "0.03\n",
      "\n",
      "Output File Names: \n",
      "SS.shared\n",
      "SS.1c.rabund\n",
      "SS.1d.rabund\n",
      "SS.2c.rabund\n",
      "SS.2d.rabund\n",
      "\n",
      "\n",
      "mothur > quit()\n",
      "\u001b[H\u001b[2J\n",
      "\n",
      "\n",
      "\n",
      "\n",
      "\n",
      "mothur v.1.34.4\n",
      "Last updated: 12/22/2014\n",
      "\n",
      "by\n",
      "Patrick D. Schloss\n",
      "\n",
      "Department of Microbiology & Immunology\n",
      "University of Michigan\n",
      "pschloss@umich.edu\n",
      "http://www.mothur.org\n",
      "\n",
      "When using, please cite:\n",
      "Schloss, P.D., et al., Introducing mothur: Open-source, platform-independent, community-supported software for describing and comparing microbial communities. Appl Environ Microbiol, 2009. 75(23):7537-41.\n",
      "\n",
      "Distributed under the GNU General Public License\n",
      "\n",
      "Type 'help()' for information on the commands that are available\n",
      "\n",
      "Type 'quit()' to exit program\n",
      "\n",
      "\n",
      "\n",
      "mothur > classify.otu(list=SS.list, taxonomy=SS.taxonomy, label=0.03)\n",
      "reftaxonomy is not required, but if given will keep the rankIDs in the summary file static.\n",
      "0.03\t147\n",
      "\n",
      "Output File Names: \n",
      "SS.0.03.cons.taxonomy\n",
      "SS.0.03.cons.tax.summary\n",
      "\n",
      "\n",
      "mothur > quit()\n",
      "\u001b[H\u001b[2J\n",
      "\n",
      "\n",
      "\n",
      "\n",
      "\n",
      "mothur v.1.34.4\n",
      "Last updated: 12/22/2014\n",
      "\n",
      "by\n",
      "Patrick D. Schloss\n",
      "\n",
      "Department of Microbiology & Immunology\n",
      "University of Michigan\n",
      "pschloss@umich.edu\n",
      "http://www.mothur.org\n",
      "\n",
      "When using, please cite:\n",
      "Schloss, P.D., et al., Introducing mothur: Open-source, platform-independent, community-supported software for describing and comparing microbial communities. Appl Environ Microbiol, 2009. 75(23):7537-41.\n",
      "\n",
      "Distributed under the GNU General Public License\n",
      "\n",
      "Type 'help()' for information on the commands that are available\n",
      "\n",
      "Type 'quit()' to exit program\n",
      "\n",
      "\n",
      "\n",
      "mothur > make.biom(shared=SS.shared, constaxonomy=SS.0.03.cons.taxonomy)\n",
      "0.03\n",
      "\n",
      "Output File Names: \n",
      "SS.0.03.biom\n",
      "\n",
      "\n",
      "mothur > quit()\n"
     ]
    }
   ],
   "source": [
    "!mothur \"#make.shared(list=$Prefix.list, group=$Prefix.groups, label=$Otu_dist_cutoff);\"\n",
    "!cat $Wkdir/*.ssu.out/*.silva.taxonomy > $Prefix.taxonomy\n",
    "!mothur \"#classify.otu(list=$Prefix.list, taxonomy=$Prefix.taxonomy, label=$Otu_dist_cutoff)\"\n",
    "!mothur \"#make.biom(shared=$Prefix.shared, constaxonomy=$Prefix.$Otu_dist_cutoff.cons.taxonomy)\"\n",
    "!mv $Prefix.$Otu_dist_cutoff.biom $Prefix.biom"
   ]
  },
  {
   "cell_type": "code",
   "execution_count": 223,
   "metadata": {
    "collapsed": true
   },
   "outputs": [],
   "source": [
    "# clean up tempfiles\n",
    "!rm -f mothur.*.logfile *rabund complete* derep.fasta matrix.bin nonoverlapping.bin temp.*"
   ]
  },
  {
   "cell_type": "markdown",
   "metadata": {
    "collapsed": true
   },
   "source": [
    "### With SS.groups, SS.names and SS.list, most diversity analysis can be done by mothur. You can look at [mothur wiki](http://www.mothur.org/wiki/454_SOP) for details (Do not forgot to do even sampling before beta-diversity analysis).\n",
    "\n",
    "### SS.biom file can used in most tools. (qiime and rdp)\n",
    "\n"
   ]
  },
  {
   "cell_type": "code",
   "execution_count": 228,
   "metadata": {
    "collapsed": false
   },
   "outputs": [
    {
     "name": "stdout",
     "output_type": "stream",
     "text": [
      "\u001b[H\u001b[2J\n",
      "\n",
      "\n",
      "\n",
      "\n",
      "\n",
      "mothur v.1.34.4\n",
      "Last updated: 12/22/2014\n",
      "\n",
      "by\n",
      "Patrick D. Schloss\n",
      "\n",
      "Department of Microbiology & Immunology\n",
      "University of Michigan\n",
      "pschloss@umich.edu\n",
      "http://www.mothur.org\n",
      "\n",
      "When using, please cite:\n",
      "Schloss, P.D., et al., Introducing mothur: Open-source, platform-independent, community-supported software for describing and comparing microbial communities. Appl Environ Microbiol, 2009. 75(23):7537-41.\n",
      "\n",
      "Distributed under the GNU General Public License\n",
      "\n",
      "Type 'help()' for information on the commands that are available\n",
      "\n",
      "Type 'quit()' to exit program\n",
      "\n",
      "\n",
      "\n",
      "mothur > make.shared(biom=SS.biom)\n",
      "\n",
      "userLabel\n",
      "\n",
      "Output File Names: \n",
      "SS.shared\n",
      "SS.1c.rabund\n",
      "SS.1d.rabund\n",
      "SS.2c.rabund\n",
      "SS.2d.rabund\n",
      "\n",
      "\n",
      "mothur > sub.sample(shared=SS.shared)\n",
      "Sampling 49 from each group.\n",
      "userLabel\n",
      "\n",
      "Output File Names: \n",
      "SS.userLabel.subsample.shared\n",
      "\n",
      "\n",
      "mothur > summary.single(calc=nseqs-coverage-sobs-chao-shannon-invsimpson)\n",
      "Using SS.userLabel.subsample.shared as input file for the shared parameter.\n",
      "\n",
      "Processing group 1c\n",
      "\n",
      "userLabel\n",
      "\n",
      "Processing group 1d\n",
      "\n",
      "userLabel\n",
      "\n",
      "Processing group 2c\n",
      "\n",
      "userLabel\n",
      "\n",
      "Processing group 2d\n",
      "\n",
      "userLabel\n",
      "\n",
      "Output File Names: \n",
      "SS.userLabel.subsample.groups.summary\n",
      "\n",
      "\n",
      "mothur > dist.shared(calc=braycurtis)\n",
      "Using SS.userLabel.subsample.shared as input file for the shared parameter.\n",
      "\n",
      "Using 1 processors.\n",
      "userLabel\n",
      "\n",
      "Output File Names: \n",
      "SS.userLabel.subsample.braycurtis.userLabel.lt.dist\n",
      "\n",
      "\n",
      "mothur > pcoa(phylip=SS.userLabel.subsample.braycurtis.userLabel.lt.dist)\n",
      "\n",
      "Processing...\n",
      "Rsq 1 axis: 0.718058\n",
      "Rsq 2 axis: 0.827489\n",
      "Rsq 3 axis: 1\n",
      "\n",
      "Output File Names: \n",
      "SS.userLabel.subsample.braycurtis.userLabel.lt.pcoa.axes\n",
      "SS.userLabel.subsample.braycurtis.userLabel.lt.pcoa.loadings\n",
      "\n",
      "\n",
      "mothur > nmds(phylip=SS.userLabel.subsample.braycurtis.userLabel.lt.dist)\n",
      "Processing Dimension: 2\n",
      "1\n",
      "2\n",
      "3\n",
      "4\n",
      "5\n",
      "6\n",
      "7\n",
      "8\n",
      "9\n",
      "10\n",
      "\n",
      "Number of dimensions:\t2\n",
      "Lowest stress :\t0.152534\n",
      "R-squared for configuration:\t0.377017\n",
      "\n",
      "Output File Names: \n",
      "SS.userLabel.subsample.braycurtis.userLabel.lt.nmds.iters\n",
      "SS.userLabel.subsample.braycurtis.userLabel.lt.nmds.stress\n",
      "SS.userLabel.subsample.braycurtis.userLabel.lt.nmds.axes\n",
      "\n",
      "\n",
      "mothur > amova(phylip=SS.userLabel.subsample.braycurtis.userLabel.lt.dist, design=/usr/local/notebooks/data/test/SS.design)\n",
      "c-d\tAmong\tWithin\tTotal\n",
      "SS\t0.409934\t0.722407\t1.13234\n",
      "df\t1\t2\t3\n",
      "MS\t0.409934\t0.361203\n",
      "\n",
      "Fs:\t1.13491\n",
      "p-value: 0.304\n",
      "\n",
      "Experiment-wise error rate: 0.05\n",
      "If you have borderline P-values, you should try increasing the number of iterations\n",
      "\n",
      "Output File Names: \n",
      "SS.userLabel.subsample.braycurtis.userLabel.lt.amova\n",
      "\n",
      "\n",
      "mothur > tree.shared(calc=braycurtis)\n",
      "Using SS.userLabel.subsample.shared as input file for the shared parameter.\n",
      "\n",
      "Using 1 processors.\n",
      "userLabel\n",
      "\n",
      "Output File Names: \n",
      "SS.userLabel.subsample.braycurtis.userLabel.tre\n",
      "\n",
      "\n",
      "mothur > unifrac.weighted(tree=SS.userLabel.subsample.braycurtis.userLabel.tre, group=/usr/local/notebooks/data/test/SS.design, random=T)\n",
      "\n",
      "Using 1 processors.\n",
      "Tree#\tGroups\tWScore\tWSig\n",
      "1\tc-d\t0.963687\t<0.0010\n",
      "It took 0 secs to run unifrac.weighted.\n",
      "\n",
      "Output File Names: \n",
      "SS.userLabel.subsample.braycurtis.userLabel.trewsummary\n",
      "SS.userLabel.subsample.braycurtis.userLabel.tre1.weighted\n",
      "\n",
      "\n",
      "mothur > quit()\n"
     ]
    }
   ],
   "source": [
    "#since The purpose of this tutorial is to show our new pipeline, we will skip details of community analysis with mothur\n",
    "#following are some common commands in mothur\n",
    "\n",
    "!mothur \"#make.shared(biom=$Prefix.biom); sub.sample(shared=$Prefix.shared); summary.single(calc=nseqs-coverage-sobs-chao-shannon-invsimpson); dist.shared(calc=braycurtis); pcoa(phylip=$Prefix.userLabel.subsample.braycurtis.userLabel.lt.dist); nmds(phylip=$Prefix.userLabel.subsample.braycurtis.userLabel.lt.dist); amova(phylip=$Prefix.userLabel.subsample.braycurtis.userLabel.lt.dist, design=$Design); tree.shared(calc=braycurtis); unifrac.weighted(tree=$Prefix.userLabel.subsample.braycurtis.userLabel.tre, group=$Design, random=T)\"\n",
    "!rm -f mothur.*.logfile; \n",
    "!rm -f *.rabund"
   ]
  },
  {
   "cell_type": "code",
   "execution_count": 225,
   "metadata": {
    "collapsed": false
   },
   "outputs": [
    {
     "name": "stdout",
     "output_type": "stream",
     "text": [
      "This part of pipeline finishes successfully :)\r\n"
     ]
    }
   ],
   "source": [
    "!echo \"This part of pipeline finishes successfully :)\""
   ]
  },
  {
   "cell_type": "code",
   "execution_count": null,
   "metadata": {
    "collapsed": true
   },
   "outputs": [],
   "source": []
  }
 ],
 "metadata": {
  "kernelspec": {
   "display_name": "Python 2",
   "language": "python",
   "name": "python2"
  },
  "language_info": {
   "codemirror_mode": {
    "name": "ipython",
    "version": 2
   },
   "file_extension": ".py",
   "mimetype": "text/x-python",
   "name": "python",
   "nbconvert_exporter": "python",
   "pygments_lexer": "ipython2",
   "version": "2.7.9"
  }
 },
 "nbformat": 4,
 "nbformat_minor": 0
}
