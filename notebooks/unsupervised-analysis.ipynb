{
 "cells": [
  {
   "cell_type": "markdown",
   "metadata": {},
   "source": [
    "### set another directory for unsupervised analysis"
   ]
  },
  {
   "cell_type": "code",
   "execution_count": 66,
   "metadata": {
    "collapsed": false
   },
   "outputs": [
    {
     "name": "stdout",
     "output_type": "stream",
     "text": [
      "/usr/local/notebooks\n"
     ]
    }
   ],
   "source": [
    "cd /usr/local/notebooks"
   ]
  },
  {
   "cell_type": "code",
   "execution_count": 35,
   "metadata": {
    "collapsed": true
   },
   "outputs": [],
   "source": [
    "mkdir -p ./workdir/clust"
   ]
  },
  {
   "cell_type": "code",
   "execution_count": 44,
   "metadata": {
    "collapsed": false
   },
   "outputs": [],
   "source": [
    "Prefix='SS'    # name for the analysis run\n",
    "Script_dir='./SSUsearch/scripts'\n",
    "Wkdir='./workdir'\n",
    "Mcclust_jar='./external_tools/Clustering/dist/Clustering.jar'\n",
    "Java_xmx='10g'\n",
    "Java_gc_threads='2'\n",
    "Otu_dist_cutoff='0.05'\n",
    "Design='./data/test/SS.design'\n"
   ]
  },
  {
   "cell_type": "code",
   "execution_count": 62,
   "metadata": {
    "collapsed": false
   },
   "outputs": [],
   "source": [
    "# get absolute path\n",
    "import os\n",
    "Script_dir=os.path.abspath(Script_dir)\n",
    "Wkdir=os.path.abspath(Wkdir)\n",
    "Mcclust_jar=os.path.abspath(Mcclust_jar)\n",
    "Design=os.path.abspath(Design)\n",
    "\n",
    "os.environ.update(\n",
    "    {'Prefix':Prefix, \n",
    "     'Script_dir': Script_dir, \n",
    "     'Wkdir': Wkdir, \n",
    "     'Mcclust_jar': Mcclust_jar, \n",
    "     'Java_xmx':Java_xmx, \n",
    "     'Java_gc_threads':Java_gc_threads, \n",
    "     'Otu_dist_cutoff':Otu_dist_cutoff, \n",
    "     'Design': Design})"
   ]
  },
  {
   "cell_type": "code",
   "execution_count": 67,
   "metadata": {
    "collapsed": false
   },
   "outputs": [
    {
     "name": "stdout",
     "output_type": "stream",
     "text": [
      "/usr/local/notebooks/workdir/clust\n"
     ]
    }
   ],
   "source": [
    "cd ./workdir/clust"
   ]
  },
  {
   "cell_type": "code",
   "execution_count": null,
   "metadata": {
    "collapsed": true
   },
   "outputs": [],
   "source": [
    "!sed -i 's/:/_/g' $Wkdir/*.ssu.out/*.forclust\n",
    "!echo \"*** Replace ':' with '_' in seq names (original illumina name has ':' in them)\""
   ]
  },
  {
   "cell_type": "code",
   "execution_count": 48,
   "metadata": {
    "collapsed": false
   },
   "outputs": [],
   "source": [
    "cat $Wkdir/*.ssu.out/*.forclust > combined_seqs.afa"
   ]
  },
  {
   "cell_type": "code",
   "execution_count": 49,
   "metadata": {
    "collapsed": false
   },
   "outputs": [
    {
     "name": "stdout",
     "output_type": "stream",
     "text": [
      "input is list of files..\r\n"
     ]
    }
   ],
   "source": [
    "# make group file for mcclust and mothur. \n",
    "# first part of the file basename will be the group label, e.g. file \"aa.bb.cc\" will have \"aa\" as group label.\n",
    "!python $Script_dir/make-groupfile.py $Prefix.groups $Wkdir/*.ssu.out/*.forclust"
   ]
  },
  {
   "cell_type": "code",
   "execution_count": 50,
   "metadata": {
    "collapsed": false
   },
   "outputs": [
    {
     "name": "stdout",
     "output_type": "stream",
     "text": [
      "*** Starting mcclust derep\n",
      "Processing combined_seqs.afa\n",
      "Total sequences: 199\n",
      "Unique sequences: 174\n",
      "Dereplication complete: 499\n",
      "0.62user 0.14system 0:00.84elapsed 90%CPU (0avgtext+0avgdata 354992maxresident)k\n",
      "1936inputs+192outputs (1major+23117minor)pagefaults 0swaps\n"
     ]
    }
   ],
   "source": [
    "!echo \"*** Starting mcclust derep\"\n",
    "!time java -Xmx$Java_xmx -XX:+UseParallelOldGC -XX:ParallelGCThreads=$Java_gc_threads \\\n",
    "    -jar $Mcclust_jar derep -a -o derep.fasta \\\n",
    "    temp.mcclust.names temp.txt combined_seqs.afa\n",
    "    \n",
    "!rm temp.txt"
   ]
  },
  {
   "cell_type": "code",
   "execution_count": 51,
   "metadata": {
    "collapsed": false
   },
   "outputs": [],
   "source": [
    "# convert mcclust names to mothur names\n",
    "!python $Script_dir/mcclust2mothur_names_file.py temp.mcclust.names temp.mothur.names"
   ]
  },
  {
   "cell_type": "code",
   "execution_count": 53,
   "metadata": {
    "collapsed": false
   },
   "outputs": [
    {
     "name": "stdout",
     "output_type": "stream",
     "text": [
      "starting preclust..\n",
      "\u001b[H\u001b[2J\n",
      "\n",
      "\n",
      "\n",
      "\n",
      "\n",
      "mothur v.1.34.4\n",
      "Last updated: 12/22/2014\n",
      "\n",
      "by\n",
      "Patrick D. Schloss\n",
      "\n",
      "Department of Microbiology & Immunology\n",
      "University of Michigan\n",
      "pschloss@umich.edu\n",
      "http://www.mothur.org\n",
      "\n",
      "When using, please cite:\n",
      "Schloss, P.D., et al., Introducing mothur: Open-source, platform-independent, community-supported software for describing and comparing microbial communities. Appl Environ Microbiol, 2009. 75(23):7537-41.\n",
      "\n",
      "Distributed under the GNU General Public License\n",
      "\n",
      "Type 'help()' for information on the commands that are available\n",
      "\n",
      "Type 'quit()' to exit program\n",
      "\n",
      "\n",
      "\n",
      "mothur > pre.cluster(fasta=derep.fasta, diffs=1, name=temp.mothur.names)\n",
      "\n",
      "Using 1 processors.\n",
      "0\t174\t0\n",
      "100\t165\t9\n",
      "174\t163\t11\n",
      "Total number of sequences before precluster was 174.\n",
      "pre.cluster removed 11 sequences.\n",
      "\n",
      "It took 0 secs to cluster 174 sequences.\n",
      "\n",
      "Output File Names: \n",
      "derep.precluster.fasta\n",
      "derep.precluster.names\n",
      "derep.precluster.map\n",
      "\n",
      "\n",
      "mothur > quit()\n"
     ]
    }
   ],
   "source": [
    "!echo \"starting preclust..\"\n",
    "### output: derep.precluster.fasta, derep.precluster.names\n",
    "!mothur \"#pre.cluster(fasta=derep.fasta, diffs=1, name=temp.mothur.names)\""
   ]
  },
  {
   "cell_type": "code",
   "execution_count": 54,
   "metadata": {
    "collapsed": true
   },
   "outputs": [],
   "source": [
    "!python $Script_dir/mothur2mcclust_names_file.py derep.precluster.names $Prefix.names"
   ]
  },
  {
   "cell_type": "code",
   "execution_count": 55,
   "metadata": {
    "collapsed": false
   },
   "outputs": [
    {
     "name": "stdout",
     "output_type": "stream",
     "text": [
      "Reading sequences(memratio=1.2895267219085598E-4)...\n",
      "Using distance model edu.msu.cme.rdp.alignment.pairwise.rna.UncorrectedDistanceModel\n",
      "Read 163 Nucleotide sequences (memratio=2.579355191410434E-4)\n",
      "Reading ID Mapping from file /usr/local/notebooks/SS.names\n",
      "Read mapping for 199 sequences (memratio=3.8690076414828753E-4)\n",
      "Starting distance computations, predicted max edges=26569, at=Mon Jun 22 21:42:46 UTC 2015\n",
      "Dumping 13203 edges to partial_matrix0 FINAL EDGES (memory ratio=0.001850005274547931)\n",
      "Matrix edges computed: 129\n",
      "Maximum distance: 0.5238095238095238\n",
      "Splits: 1\n",
      "Partition files merged: 102\n",
      "0.60user 0.08system 0:00.55elapsed 124%CPU (0avgtext+0avgdata 201776maxresident)k\n",
      "1872inputs+376outputs (0major+14881minor)pagefaults 0swaps\n"
     ]
    }
   ],
   "source": [
    "!time java -Xmx$Java_xmx -XX:+UseParallelOldGC -XX:ParallelGCThreads=$Java_gc_threads \\\n",
    "    -jar $Mcclust_jar dmatrix \\\n",
    "    -l 25 -o matrix.bin -i $Prefix.names -I derep.precluster.fasta"
   ]
  },
  {
   "cell_type": "code",
   "execution_count": 56,
   "metadata": {
    "collapsed": false,
    "scrolled": false
   },
   "outputs": [
    {
     "name": "stdout",
     "output_type": "stream",
     "text": [
      "lambda=0\n",
      "Clustering complete: 619\n",
      "Lookaheads performed: 0\n",
      "Time spent Looking ahead: 0\n",
      "1.33user 0.15system 0:00.79elapsed 188%CPU (0avgtext+0avgdata 284992maxresident)k\n",
      "368inputs+744outputs (0major+20127minor)pagefaults 0swaps\n",
      "File(s):\t1c 1d 2c 2d \n",
      "\n",
      "Sequences:\t50 49 50 50 \n",
      "\n",
      "*** Replace ':' with '_' in seq names (original illumina name has ':' in them)\n"
     ]
    }
   ],
   "source": [
    "!time java -Xmx$Java_xmx -XX:+UseParallelOldGC -XX:ParallelGCThreads=$Java_gc_threads \\\n",
    "    -jar $Mcclust_jar cluster -m upgma \\\n",
    "    -i $Prefix.names -s $Prefix.groups -o complete.clust -d matrix.bin\n",
    "\n",
    "!python $Script_dir/mcclust2mothur-list-cutoff.py complete.clust $Prefix.list $Otu_dist_cutoff\n"
   ]
  },
  {
   "cell_type": "code",
   "execution_count": 57,
   "metadata": {
    "collapsed": false
   },
   "outputs": [],
   "source": [
    "!java -jar $Mcclust_jar rep-seqs -c -l -s complete.clust $Otu_dist_cutoff combined_seqs.afa\n",
    "!mv complete.clust_rep_seqs.fasta otu_rep_align.fa"
   ]
  },
  {
   "cell_type": "code",
   "execution_count": 58,
   "metadata": {
    "collapsed": false
   },
   "outputs": [
    {
     "name": "stdout",
     "output_type": "stream",
     "text": [
      "\u001b[H\u001b[2J\n",
      "\n",
      "\n",
      "\n",
      "\n",
      "\n",
      "mothur v.1.34.4\n",
      "Last updated: 12/22/2014\n",
      "\n",
      "by\n",
      "Patrick D. Schloss\n",
      "\n",
      "Department of Microbiology & Immunology\n",
      "University of Michigan\n",
      "pschloss@umich.edu\n",
      "http://www.mothur.org\n",
      "\n",
      "When using, please cite:\n",
      "Schloss, P.D., et al., Introducing mothur: Open-source, platform-independent, community-supported software for describing and comparing microbial communities. Appl Environ Microbiol, 2009. 75(23):7537-41.\n",
      "\n",
      "Distributed under the GNU General Public License\n",
      "\n",
      "Type 'help()' for information on the commands that are available\n",
      "\n",
      "Type 'quit()' to exit program\n",
      "\n",
      "\n",
      "\n",
      "mothur > make.shared(list=SS.list, group=SS.groups, label=0.05)\n",
      "0.05\n",
      "\n",
      "Output File Names: \n",
      "SS.shared\n",
      "SS.1c.rabund\n",
      "SS.1d.rabund\n",
      "SS.2c.rabund\n",
      "SS.2d.rabund\n",
      "\n",
      "\n",
      "mothur > quit()\n",
      "\u001b[H\u001b[2J\n",
      "\n",
      "\n",
      "\n",
      "\n",
      "\n",
      "mothur v.1.34.4\n",
      "Last updated: 12/22/2014\n",
      "\n",
      "by\n",
      "Patrick D. Schloss\n",
      "\n",
      "Department of Microbiology & Immunology\n",
      "University of Michigan\n",
      "pschloss@umich.edu\n",
      "http://www.mothur.org\n",
      "\n",
      "When using, please cite:\n",
      "Schloss, P.D., et al., Introducing mothur: Open-source, platform-independent, community-supported software for describing and comparing microbial communities. Appl Environ Microbiol, 2009. 75(23):7537-41.\n",
      "\n",
      "Distributed under the GNU General Public License\n",
      "\n",
      "Type 'help()' for information on the commands that are available\n",
      "\n",
      "Type 'quit()' to exit program\n",
      "\n",
      "\n",
      "\n",
      "mothur > classify.otu(list=SS.list, taxonomy=SS.taxonomy, label=0.05)\n",
      "reftaxonomy is not required, but if given will keep the rankIDs in the summary file static.\n",
      "0.05\t130\n",
      "\n",
      "Output File Names: \n",
      "SS.0.05.cons.taxonomy\n",
      "SS.0.05.cons.tax.summary\n",
      "\n",
      "\n",
      "mothur > quit()\n",
      "\u001b[H\u001b[2J\n",
      "\n",
      "\n",
      "\n",
      "\n",
      "\n",
      "mothur v.1.34.4\n",
      "Last updated: 12/22/2014\n",
      "\n",
      "by\n",
      "Patrick D. Schloss\n",
      "\n",
      "Department of Microbiology & Immunology\n",
      "University of Michigan\n",
      "pschloss@umich.edu\n",
      "http://www.mothur.org\n",
      "\n",
      "When using, please cite:\n",
      "Schloss, P.D., et al., Introducing mothur: Open-source, platform-independent, community-supported software for describing and comparing microbial communities. Appl Environ Microbiol, 2009. 75(23):7537-41.\n",
      "\n",
      "Distributed under the GNU General Public License\n",
      "\n",
      "Type 'help()' for information on the commands that are available\n",
      "\n",
      "Type 'quit()' to exit program\n",
      "\n",
      "\n",
      "\n",
      "mothur > make.biom(shared=SS.shared, constaxonomy=SS.0.05.cons.taxonomy)\n",
      "0.05\n",
      "\n",
      "Output File Names: \n",
      "SS.0.05.biom\n",
      "\n",
      "\n",
      "mothur > quit()\n"
     ]
    }
   ],
   "source": [
    "!mothur \"#make.shared(list=$Prefix.list, group=$Prefix.groups, label=$Otu_dist_cutoff);\"\n",
    "!cat $Wkdir/*.ssu.out/*.silva.taxonomy > $Prefix.taxonomy\n",
    "!mothur \"#classify.otu(list=$Prefix.list, taxonomy=$Prefix.taxonomy, label=$Otu_dist_cutoff)\"\n",
    "!mothur \"#make.biom(shared=$Prefix.shared, constaxonomy=$Prefix.$Otu_dist_cutoff.cons.taxonomy)\"\n",
    "!mv $Prefix.$Otu_dist_cutoff.biom $Prefix.biom"
   ]
  },
  {
   "cell_type": "code",
   "execution_count": 59,
   "metadata": {
    "collapsed": true
   },
   "outputs": [],
   "source": [
    "# clean up tempfiles\n",
    "!rm -f mothur.*.logfile *rabund complete* derep.fasta matrix.bin nonoverlapping.bin temp.*"
   ]
  },
  {
   "cell_type": "markdown",
   "metadata": {
    "collapsed": true
   },
   "source": [
    "### With SS.groups, SS.names and SS.list, most diversity analysis can be done by mothur. You can look at [mothur wiki](http://www.mothur.org/wiki/454_SOP) for details (Do not forgot to do even sampling before beta-diversity analysis).\n",
    "\n",
    "### SS.biom file can used in most tools. (qiime and rdp)\n",
    "\n"
   ]
  },
  {
   "cell_type": "code",
   "execution_count": 60,
   "metadata": {
    "collapsed": false
   },
   "outputs": [
    {
     "name": "stdout",
     "output_type": "stream",
     "text": [
      "\u001b[H\u001b[2J\n",
      "\n",
      "\n",
      "\n",
      "\n",
      "\n",
      "mothur v.1.34.4\n",
      "Last updated: 12/22/2014\n",
      "\n",
      "by\n",
      "Patrick D. Schloss\n",
      "\n",
      "Department of Microbiology & Immunology\n",
      "University of Michigan\n",
      "pschloss@umich.edu\n",
      "http://www.mothur.org\n",
      "\n",
      "When using, please cite:\n",
      "Schloss, P.D., et al., Introducing mothur: Open-source, platform-independent, community-supported software for describing and comparing microbial communities. Appl Environ Microbiol, 2009. 75(23):7537-41.\n",
      "\n",
      "Distributed under the GNU General Public License\n",
      "\n",
      "Type 'help()' for information on the commands that are available\n",
      "\n",
      "Type 'quit()' to exit program\n",
      "\n",
      "\n",
      "\n",
      "mothur > make.shared(biom=SS.biom)\n",
      "\n",
      "userLabel\n",
      "\n",
      "Output File Names: \n",
      "SS.shared\n",
      "SS.1c.rabund\n",
      "SS.1d.rabund\n",
      "SS.2c.rabund\n",
      "SS.2d.rabund\n",
      "\n",
      "\n",
      "mothur > sub.sample(shared=SS.shared)\n",
      "Sampling 49 from each group.\n",
      "userLabel\n",
      "\n",
      "Output File Names: \n",
      "SS.userLabel.subsample.shared\n",
      "\n",
      "\n",
      "mothur > summary.single(calc=nseqs-coverage-sobs-chao-shannon-invsimpson)\n",
      "Using SS.userLabel.subsample.shared as input file for the shared parameter.\n",
      "\n",
      "Processing group 1c\n",
      "\n",
      "userLabel\n",
      "\n",
      "Processing group 1d\n",
      "\n",
      "userLabel\n",
      "\n",
      "Processing group 2c\n",
      "\n",
      "userLabel\n",
      "\n",
      "Processing group 2d\n",
      "\n",
      "userLabel\n",
      "\n",
      "Output File Names: \n",
      "SS.userLabel.subsample.groups.summary\n",
      "\n",
      "\n",
      "mothur > dist.shared(calc=braycurtis)\n",
      "Using SS.userLabel.subsample.shared as input file for the shared parameter.\n",
      "\n",
      "Using 1 processors.\n",
      "userLabel\n",
      "\n",
      "Output File Names: \n",
      "SS.userLabel.subsample.braycurtis.userLabel.lt.dist\n",
      "\n",
      "\n",
      "mothur > pcoa(phylip=SS.userLabel.subsample.braycurtis.userLabel.lt.dist)\n",
      "\n",
      "Processing...\n",
      "Rsq 1 axis: 0.91053\n",
      "Rsq 2 axis: 0.726899\n",
      "Rsq 3 axis: 1\n",
      "\n",
      "Output File Names: \n",
      "SS.userLabel.subsample.braycurtis.userLabel.lt.pcoa.axes\n",
      "SS.userLabel.subsample.braycurtis.userLabel.lt.pcoa.loadings\n",
      "\n",
      "\n",
      "mothur > nmds(phylip=SS.userLabel.subsample.braycurtis.userLabel.lt.dist)\n",
      "Processing Dimension: 2\n",
      "1\n",
      "2\n",
      "3\n",
      "4\n",
      "5\n",
      "6\n",
      "7\n",
      "8\n",
      "9\n",
      "10\n",
      "\n",
      "Number of dimensions:\t2\n",
      "Lowest stress :\t0.15928\n",
      "R-squared for configuration:\t0.314006\n",
      "\n",
      "Output File Names: \n",
      "SS.userLabel.subsample.braycurtis.userLabel.lt.nmds.iters\n",
      "SS.userLabel.subsample.braycurtis.userLabel.lt.nmds.stress\n",
      "SS.userLabel.subsample.braycurtis.userLabel.lt.nmds.axes\n",
      "\n",
      "\n",
      "mothur > amova(phylip=SS.userLabel.subsample.braycurtis.userLabel.lt.dist, design=/usr/local/notebooks/data/test/SS.design)\n",
      "c-d\tAmong\tWithin\tTotal\n",
      "SS\t0.357247\t0.673053\t1.0303\n",
      "df\t1\t2\t3\n",
      "MS\t0.357247\t0.336526\n",
      "\n",
      "Fs:\t1.06157\n",
      "p-value: 0.349\n",
      "\n",
      "Experiment-wise error rate: 0.05\n",
      "If you have borderline P-values, you should try increasing the number of iterations\n",
      "\n",
      "Output File Names: \n",
      "SS.userLabel.subsample.braycurtis.userLabel.lt.amova\n",
      "\n",
      "\n",
      "mothur > tree.shared(calc=braycurtis)\n",
      "Using SS.userLabel.subsample.shared as input file for the shared parameter.\n",
      "\n",
      "Using 1 processors.\n",
      "userLabel\n",
      "\n",
      "Output File Names: \n",
      "SS.userLabel.subsample.braycurtis.userLabel.tre\n",
      "\n",
      "\n",
      "mothur > unifrac.weighted(tree=SS.userLabel.subsample.braycurtis.userLabel.tre, group=/usr/local/notebooks/data/test/SS.design, random=T)\n",
      "\n",
      "Using 1 processors.\n",
      "Tree#\tGroups\tWScore\tWSig\n",
      "1\tc-d\t0.942529\t<0.0010\n",
      "It took 0 secs to run unifrac.weighted.\n",
      "\n",
      "Output File Names: \n",
      "SS.userLabel.subsample.braycurtis.userLabel.trewsummary\n",
      "SS.userLabel.subsample.braycurtis.userLabel.tre1.weighted\n",
      "\n",
      "\n",
      "mothur > quit()\n"
     ]
    }
   ],
   "source": [
    "%%bash\n",
    "\n",
    "#since The purpose of this tutorial is to show our new pipeline, we will skip details of community analysis with mothur\n",
    "#following are some common commands in mothur\n",
    "\n",
    "# mothur is inconsistent with the \"Label\" in files names. I have seens either \"dummy\" or \"useLabel“\n",
    "# \"dummy\" for 1.33.3; \"userLabel\" for 1.34.4\n",
    "Label=userLabel\n",
    "#Label=dummy\n",
    "mothur \"#make.shared(biom=$Prefix.biom); sub.sample(shared=$Prefix.shared); summary.single(calc=nseqs-coverage-sobs-chao-shannon-invsimpson); dist.shared(calc=braycurtis); pcoa(phylip=$Prefix.$Label.subsample.braycurtis.$Label.lt.dist); nmds(phylip=$Prefix.$Label.subsample.braycurtis.$Label.lt.dist); amova(phylip=$Prefix.$Label.subsample.braycurtis.$Label.lt.dist, design=$Design); tree.shared(calc=braycurtis); unifrac.weighted(tree=$Prefix.$Label.subsample.braycurtis.$Label.tre, group=$Design, random=T)\"\n",
    "rm -f mothur.*.logfile; \n",
    "rm -f *.rabund"
   ]
  },
  {
   "cell_type": "code",
   "execution_count": 61,
   "metadata": {
    "collapsed": false
   },
   "outputs": [
    {
     "name": "stdout",
     "output_type": "stream",
     "text": [
      "This part of pipeline finishes successfully :)\r\n"
     ]
    }
   ],
   "source": [
    "!echo \"This part of pipeline finishes successfully :)\""
   ]
  },
  {
   "cell_type": "code",
   "execution_count": null,
   "metadata": {
    "collapsed": true
   },
   "outputs": [],
   "source": []
  },
  {
   "cell_type": "code",
   "execution_count": null,
   "metadata": {
    "collapsed": true
   },
   "outputs": [],
   "source": [
    "### some simple visualization"
   ]
  },
  {
   "cell_type": "code",
   "execution_count": 91,
   "metadata": {
    "collapsed": false
   },
   "outputs": [
    {
     "name": "stdout",
     "output_type": "stream",
     "text": [
      "2 samples collect for Kw c\n",
      "2 samples collect for Kw d\n",
      "2 samples collect for Kw c\n",
      "2 samples collect for Kw d\n",
      "2 samples collect for Kw c\n",
      "2 samples collect for Kw d\n"
     ]
    }
   ],
   "source": [
    "%%bash\n",
    "\n",
    "Label=userLabel\n",
    "#Label=dummy\n",
    "\n",
    "# alpha diveristy index\n",
    "python $Script_dir/plot-diversity-index.py $Label \"chao,shannon,invsimpson\" \"c,d\" \"SS.$Label.subsample.groups.summary\" \"test\" \"test.alpha\" "
   ]
  },
  {
   "cell_type": "code",
   "execution_count": 93,
   "metadata": {
    "collapsed": false
   },
   "outputs": [
    {
     "data": {
      "image/png": "[encoded data removed]",
      "text/plain": [
       "<IPython.core.display.Image object>"
      ]
     },
     "execution_count": 93,
     "metadata": {},
     "output_type": "execute_result"
    }
   ],
   "source": [
    "from IPython.display import Image\n",
    "Image('test.alpha.png')"
   ]
  },
  {
   "cell_type": "code",
   "execution_count": 87,
   "metadata": {
    "collapsed": true
   },
   "outputs": [],
   "source": [
    "# taxon distribution\n",
    "!python $Script_dir/plot-taxa-count.py 2 test.taxa.dist ../*.ssu.out/*.silva.taxonomy.count"
   ]
  },
  {
   "cell_type": "code",
   "execution_count": 89,
   "metadata": {
    "collapsed": false
   },
   "outputs": [
    {
     "data": {
      "image/png": "[encoded data removed]",
      "text/plain": [
       "<IPython.core.display.Image object>"
      ]
     },
     "execution_count": 89,
     "metadata": {},
     "output_type": "execute_result"
    }
   ],
   "source": [
    "from IPython.display import Image\n",
    "Image('test.taxa.dist.png')"
   ]
  },
  {
   "cell_type": "code",
   "execution_count": 101,
   "metadata": {
    "collapsed": false
   },
   "outputs": [],
   "source": [
    "%%bash\n",
    "\n",
    "Label=userLabel\n",
    "#Label=dummy\n",
    "\n",
    "# ordination\n",
    "python $Script_dir/plot-pcoa.py  SS.$Label.subsample.braycurtis.$Label.lt.pcoa.axes  SS.$Label.subsample.braycurtis.$Label.lt.pcoa.loadings  test.beta.pcoa"
   ]
  },
  {
   "cell_type": "code",
   "execution_count": 102,
   "metadata": {
    "collapsed": false
   },
   "outputs": [
    {
     "data": {
      "image/png": "[encoded data removed]",
      "text/plain": [
       "<IPython.core.display.Image object>"
      ]
     },
     "execution_count": 102,
     "metadata": {},
     "output_type": "execute_result"
    }
   ],
   "source": [
    "from IPython.display import Image\n",
    "Image('test.beta.pcoa.png')"
   ]
  },
  {
   "cell_type": "code",
   "execution_count": null,
   "metadata": {
    "collapsed": true
   },
   "outputs": [],
   "source": []
  }
 ],
 "metadata": {
  "kernelspec": {
   "display_name": "Python 2",
   "language": "python",
   "name": "python2"
  },
  "language_info": {
   "codemirror_mode": {
    "name": "ipython",
    "version": 2
   },
   "file_extension": ".py",
   "mimetype": "text/x-python",
   "name": "python",
   "nbconvert_exporter": "python",
   "pygments_lexer": "ipython2",
   "version": "2.7.10"
  }
 },
 "nbformat": 4,
 "nbformat_minor": 0
}
