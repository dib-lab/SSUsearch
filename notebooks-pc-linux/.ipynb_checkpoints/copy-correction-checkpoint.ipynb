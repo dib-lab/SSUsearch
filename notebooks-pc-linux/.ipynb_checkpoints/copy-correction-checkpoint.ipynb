{
 "cells": [
  {
   "cell_type": "markdown",
   "metadata": {},
   "source": [
    "### Copy corrections is based on [copyrighter](http://www.ncbi.nlm.nih.gov/pubmed/24708850). One copy database for each Greengene taxon at each level is provided by the tool. We will use that database for correcting our Greengene taxonomy abundance and OTU abundance."
   ]
  },
  {
   "cell_type": "code",
   "execution_count": 27,
   "metadata": {
    "collapsed": false
   },
   "outputs": [
    {
     "name": "stdout",
     "output_type": "stream",
     "text": [
      "/home/gjr/Desktop/SSUsearch\n"
     ]
    }
   ],
   "source": [
    "cd ~/Desktop/SSUsearch/"
   ]
  },
  {
   "cell_type": "code",
   "execution_count": 28,
   "metadata": {
    "collapsed": true
   },
   "outputs": [],
   "source": [
    "### set up directory\n",
    "!mkdir -p ./workdir/copy_correction"
   ]
  },
  {
   "cell_type": "code",
   "execution_count": 29,
   "metadata": {
    "collapsed": true
   },
   "outputs": [],
   "source": [
    "Prefix='SS'    # name for the analysis run\n",
    "Script_dir='./scripts'\n",
    "Wkdir='./workdir'\n",
    "Design='./data/test/SS.design'\n",
    "Otu_dist_cutoff='0.05'\n",
    "Copy_db='./data/SSUsearch_db/Copy_db.copyrighter.txt'"
   ]
  },
  {
   "cell_type": "code",
   "execution_count": 30,
   "metadata": {
    "collapsed": false
   },
   "outputs": [
    {
     "name": "stdout",
     "output_type": "stream",
     "text": [
      "~/Desktop/SSUsearch/external_tools/bin/:~/Desktop/SSUsearch/external_tools/bin/:/home/gjr/anaconda/bin:/usr/lib/lightdm/lightdm:/usr/local/sbin:/usr/local/bin:/usr/sbin:/usr/bin:/sbin:/bin:/usr/games\n"
     ]
    }
   ],
   "source": [
    "import os\n",
    "Script_dir=os.path.abspath(Script_dir)\n",
    "Wkdir=os.path.abspath(Wkdir)\n",
    "Design=os.path.abspath(Design)\n",
    "Copy_db=os.path.abspath(Copy_db)\n",
    "New_path = '{}:{}'.format('~/Desktop/SSUsearch/external_tools/bin/', os.environ['PATH'])\n",
    "\n",
    "print New_path\n",
    "\n",
    "os.environ.update(\n",
    "    {'PATH':New_path,\n",
    "     'Prefix':Prefix,\n",
    "     'Script_dir': Script_dir, \n",
    "     'Wkdir': Wkdir, \n",
    "     'Otu_dist_cutoff':Otu_dist_cutoff,\n",
    "     'Design': Design, \n",
    "     'Copy_db': Copy_db})"
   ]
  },
  {
   "cell_type": "code",
   "execution_count": 31,
   "metadata": {
    "collapsed": false
   },
   "outputs": [
    {
     "name": "stdout",
     "output_type": "stream",
     "text": [
      "/home/gjr/Desktop/SSUsearch/workdir/copy_correction\n"
     ]
    }
   ],
   "source": [
    "cd ./workdir/copy_correction"
   ]
  },
  {
   "cell_type": "code",
   "execution_count": 32,
   "metadata": {
    "collapsed": false
   },
   "outputs": [],
   "source": [
    "# get input files from '/usr/local/notebooks/workdir/clust'\n",
    "!ln -sf $Wkdir/clust/$Prefix.biom\n",
    "!ln -sf $Wkdir/clust/$Prefix.list\n"
   ]
  },
  {
   "cell_type": "code",
   "execution_count": 40,
   "metadata": {
    "collapsed": false,
    "scrolled": true
   },
   "outputs": [
    {
     "name": "stdout",
     "output_type": "stream",
     "text": [
      "\u001b[H\u001b[2J\n",
      "\n",
      "\n",
      "\n",
      "\n",
      "\n",
      "mothur v.1.33.3\n",
      "Last updated: 4/4/2014\n",
      "\n",
      "by\n",
      "Patrick D. Schloss\n",
      "\n",
      "Department of Microbiology & Immunology\n",
      "University of Michigan\n",
      "pschloss@umich.edu\n",
      "http://www.mothur.org\n",
      "\n",
      "When using, please cite:\n",
      "Schloss, P.D., et al., Introducing mothur: Open-source, platform-independent, community-supported software for describing and comparing microbial communities. Appl Environ Microbiol, 2009. 75(23):7537-41.\n",
      "\n",
      "Distributed under the GNU General Public License\n",
      "\n",
      "Type 'help()' for information on the commands that are available\n",
      "\n",
      "Type 'quit()' to exit program\n",
      "\n",
      "\n",
      "\n",
      "mothur > classify.otu(list=SS.list, taxonomy=SS.taxonomy, label=0.05)\n",
      "reftaxonomy is not required, but if given will keep the rankIDs in the summary file static.\n",
      "0.05\t78\n",
      "\n",
      "Output File Names: \n",
      "SS.0.05.cons.taxonomy\n",
      "SS.0.05.cons.tax.summary\n",
      "\n",
      "[WARNING]: your sequence names contained ':'.  I changed them to '_' to avoid problems in your downstream analysis.\n",
      "\n",
      "mothur > quit()\n"
     ]
    }
   ],
   "source": [
    "%%bash\n",
    "\n",
    "# get Greengene taxonomy\n",
    "cat $Wkdir/*.ssu.out/*.gg.taxonomy > $Prefix.taxonomy\n",
    "mothur \"#classify.otu(list=$Prefix.list, taxonomy=$Prefix.taxonomy, label=$Otu_dist_cutoff)\"\n",
    "mv SS.$Otu_dist_cutoff.cons.taxonomy SS.cons.taxonomy\n",
    "mv SS.$Otu_dist_cutoff.cons.tax.summary SS.cons.tax.summary"
   ]
  },
  {
   "cell_type": "code",
   "execution_count": 36,
   "metadata": {
    "collapsed": false
   },
   "outputs": [
    {
     "name": "stdout",
     "output_type": "stream",
     "text": [
      "\u001b[H\u001b[2J\n",
      "\n",
      "\n",
      "\n",
      "\n",
      "\n",
      "mothur v.1.33.3\n",
      "Last updated: 4/4/2014\n",
      "\n",
      "by\n",
      "Patrick D. Schloss\n",
      "\n",
      "Department of Microbiology & Immunology\n",
      "University of Michigan\n",
      "pschloss@umich.edu\n",
      "http://www.mothur.org\n",
      "\n",
      "When using, please cite:\n",
      "Schloss, P.D., et al., Introducing mothur: Open-source, platform-independent, community-supported software for describing and comparing microbial communities. Appl Environ Microbiol, 2009. 75(23):7537-41.\n",
      "\n",
      "Distributed under the GNU General Public License\n",
      "\n",
      "Type 'help()' for information on the commands that are available\n",
      "\n",
      "Type 'quit()' to exit program\n",
      "\n",
      "\n",
      "\n",
      "mothur > make.shared(biom=SS.biom)\n",
      "\n",
      "dummy\n",
      "\n",
      "Output File Names: \n",
      "SS.shared\n",
      "SS.1c.rabund\n",
      "SS.1d.rabund\n",
      "SS.2c.rabund\n",
      "SS.2d.rabund\n",
      "\n",
      "\n",
      "mothur > quit()\n",
      "\u001b[H\u001b[2J\n",
      "\n",
      "\n",
      "\n",
      "\n",
      "\n",
      "mothur v.1.33.3\n",
      "Last updated: 4/4/2014\n",
      "\n",
      "by\n",
      "Patrick D. Schloss\n",
      "\n",
      "Department of Microbiology & Immunology\n",
      "University of Michigan\n",
      "pschloss@umich.edu\n",
      "http://www.mothur.org\n",
      "\n",
      "When using, please cite:\n",
      "Schloss, P.D., et al., Introducing mothur: Open-source, platform-independent, community-supported software for describing and comparing microbial communities. Appl Environ Microbiol, 2009. 75(23):7537-41.\n",
      "\n",
      "Distributed under the GNU General Public License\n",
      "\n",
      "Type 'help()' for information on the commands that are available\n",
      "\n",
      "Type 'quit()' to exit program\n",
      "\n",
      "\n",
      "\n",
      "mothur > make.biom(shared=SS.shared, constaxonomy=SS.cons.taxonomy)\n",
      "dummy\n",
      "\n",
      "Output File Names: \n",
      "SS.dummy.biom\n",
      "\n",
      "\n",
      "mothur > quit()\n"
     ]
    }
   ],
   "source": [
    "%%bash\n",
    "\n",
    "Label=userLabel\n",
    "#Label=dummy\n",
    "\n",
    "mothur \"#make.shared(biom=$Prefix.biom)\"\n",
    "\n",
    "# do copy correction and even sampling\n",
    "python $Script_dir/copyrighter-otutable.py $Copy_db \\\n",
    "    $Prefix.cons.taxonomy \\\n",
    "    $Prefix.shared $Prefix.cc.shared\n",
    "    \n",
    "mv $Prefix.cc.shared $Prefix.shared\n",
    "mothur \"#make.biom(shared=$Prefix.shared, constaxonomy=$Prefix.cons.taxonomy);\"\n",
    "mv $Prefix.$Label.biom $Prefix.biom\n",
    "rm -f mothur.*.logfile"
   ]
  },
  {
   "cell_type": "markdown",
   "metadata": {},
   "source": [
    "### SS.biom can be further used for diversity analysis, important but not focus of this tutorial (details see [mothur wiki](http://www.mothur.org/wiki/454_SOP))."
   ]
  },
  {
   "cell_type": "code",
   "execution_count": 39,
   "metadata": {
    "collapsed": false
   },
   "outputs": [
    {
     "name": "stdout",
     "output_type": "stream",
     "text": [
      "\u001b[H\u001b[2J\n",
      "\n",
      "\n",
      "\n",
      "\n",
      "\n",
      "mothur v.1.33.3\n",
      "Last updated: 4/4/2014\n",
      "\n",
      "by\n",
      "Patrick D. Schloss\n",
      "\n",
      "Department of Microbiology & Immunology\n",
      "University of Michigan\n",
      "pschloss@umich.edu\n",
      "http://www.mothur.org\n",
      "\n",
      "When using, please cite:\n",
      "Schloss, P.D., et al., Introducing mothur: Open-source, platform-independent, community-supported software for describing and comparing microbial communities. Appl Environ Microbiol, 2009. 75(23):7537-41.\n",
      "\n",
      "Distributed under the GNU General Public License\n",
      "\n",
      "Type 'help()' for information on the commands that are available\n",
      "\n",
      "Type 'quit()' to exit program\n",
      "\n",
      "\n",
      "\n",
      "mothur > make.shared(biom=SS.biom)\n",
      "\n",
      "dummy\n",
      "\n",
      "Output File Names: \n",
      "SS.shared\n",
      "SS.1c.rabund\n",
      "SS.1d.rabund\n",
      "SS.2c.rabund\n",
      "SS.2d.rabund\n",
      "\n",
      "\n",
      "mothur > sub.sample(shared=SS.shared)\n",
      "Sampling 11 from each group.\n",
      "dummy\n",
      "\n",
      "Output File Names: \n",
      "SS.dummy.subsample.shared\n",
      "\n",
      "\n",
      "mothur > summary.single(calc=nseqs-coverage-sobs-chao-shannon-invsimpson)\n",
      "Using SS.dummy.subsample.shared as input file for the shared parameter.\n",
      "\n",
      "Processing group 1c\n",
      "\n",
      "dummy\n",
      "\n",
      "Processing group 1d\n",
      "\n",
      "dummy\n",
      "\n",
      "Processing group 2c\n",
      "\n",
      "dummy\n",
      "\n",
      "Processing group 2d\n",
      "\n",
      "dummy\n",
      "\n",
      "Output File Names: \n",
      "SS.dummy.subsample.groups.summary\n",
      "\n",
      "\n",
      "mothur > dist.shared(calc=braycurtis)\n",
      "Using SS.dummy.subsample.shared as input file for the shared parameter.\n",
      "\n",
      "Using 1 processors.\n",
      "dummy\n",
      "\n",
      "Output File Names: \n",
      "SS.dummy.subsample.braycurtis.dummy.lt.dist\n",
      "\n",
      "\n",
      "mothur > pcoa(phylip=SS.dummy.subsample.braycurtis.dummy.lt.dist)\n",
      "\n",
      "Processing...\n",
      "Rsq 1 axis: 0.970937\n",
      "Rsq 2 axis: 0.852719\n",
      "Rsq 3 axis: 1\n",
      "\n",
      "Output File Names: \n",
      "SS.dummy.subsample.braycurtis.dummy.lt.pcoa.axes\n",
      "SS.dummy.subsample.braycurtis.dummy.lt.pcoa.loadings\n",
      "\n",
      "\n",
      "mothur > nmds(phylip=SS.dummy.subsample.braycurtis.dummy.lt.dist)\n",
      "Processing Dimension: 2\n",
      "1\n",
      "2\n",
      "3\n",
      "4\n",
      "5\n",
      "6\n",
      "7\n",
      "8\n",
      "9\n",
      "10\n",
      "\n",
      "Number of dimensions:\t2\n",
      "Lowest stress :\t0.126906\n",
      "R-squared for configuration:\t0.708227\n",
      "\n",
      "Output File Names: \n",
      "SS.dummy.subsample.braycurtis.dummy.lt.nmds.iters\n",
      "SS.dummy.subsample.braycurtis.dummy.lt.nmds.stress\n",
      "SS.dummy.subsample.braycurtis.dummy.lt.nmds.axes\n",
      "\n",
      "\n",
      "mothur > amova(phylip=SS.dummy.subsample.braycurtis.dummy.lt.dist, design=/home/gjr/Desktop/SSUsearch/data/test/SS.design)\n",
      "c-d\tAmong\tWithin\tTotal\n",
      "SS\t0.526859\t0.615703\t1.14256\n",
      "df\t1\t2\t3\n",
      "MS\t0.526859\t0.307851\n",
      "\n",
      "Fs:\t1.71141\n",
      "p-value: 0.328\n",
      "\n",
      "Experiment-wise error rate: 0.05\n",
      "If you have borderline P-values, you should try increasing the number of iterations\n",
      "\n",
      "Output File Names: \n",
      "SS.dummy.subsample.braycurtis.dummy.lt.amova\n",
      "\n",
      "\n",
      "mothur > tree.shared(calc=braycurtis)\n",
      "Using SS.dummy.subsample.shared as input file for the shared parameter.\n",
      "\n",
      "Using 1 processors.\n",
      "dummy\n",
      "\n",
      "Output File Names: \n",
      "SS.dummy.subsample.braycurtis.dummy.tre\n",
      "\n",
      "\n",
      "mothur > unifrac.weighted(tree=SS.dummy.subsample.braycurtis.dummy.tre, group=/home/gjr/Desktop/SSUsearch/data/test/SS.design, random=T)\n",
      "\n",
      "Using 1 processors.\n",
      "Tree#\tGroups\tWScore\tWSig\n",
      "1\tc-d\t0.928571\t<0.0010\n",
      "It took 0 secs to run unifrac.weighted.\n",
      "\n",
      "Output File Names: \n",
      "SS.dummy.subsample.braycurtis.dummy.trewsummary\n",
      "SS.dummy.subsample.braycurtis.dummy.tre1.weighted\n",
      "\n",
      "\n",
      "mothur > quit()\n"
     ]
    }
   ],
   "source": [
    "%%bash\n",
    "\n",
    "Label=userLabel\n",
    "#Label=dummy\n",
    "mothur \"#make.shared(biom=$Prefix.biom); sub.sample(shared=$Prefix.shared); summary.single(calc=nseqs-coverage-sobs-chao-shannon-invsimpson); dist.shared(calc=braycurtis); pcoa(phylip=$Prefix.$Label.subsample.braycurtis.$Label.lt.dist); nmds(phylip=$Prefix.$Label.subsample.braycurtis.$Label.lt.dist); amova(phylip=$Prefix.$Label.subsample.braycurtis.$Label.lt.dist, design=$Design); tree.shared(calc=braycurtis); unifrac.weighted(tree=$Prefix.$Label.subsample.braycurtis.$Label.tre, group=$Design, random=T)\"\n",
    "rm -f mothur.*.logfile; \n",
    "rm -f *.rabund"
   ]
  },
  {
   "cell_type": "code",
   "execution_count": null,
   "metadata": {
    "collapsed": true
   },
   "outputs": [],
   "source": []
  }
 ],
 "metadata": {
  "kernelspec": {
   "display_name": "Python 2",
   "language": "python",
   "name": "python2"
  },
  "language_info": {
   "codemirror_mode": {
    "name": "ipython",
    "version": 2
   },
   "file_extension": ".py",
   "mimetype": "text/x-python",
   "name": "python",
   "nbconvert_exporter": "python",
   "pygments_lexer": "ipython2",
   "version": "2.7.10"
  }
 },
 "nbformat": 4,
 "nbformat_minor": 0
}
