{
 "cells": [
  {
   "cell_type": "markdown",
   "metadata": {},
   "source": [
    "###Overview\n",
    "\n",
    "SSUsearch is pipeline for identify SSU rRNA gene and use them for diversity analysis. THe pipeline requires HMMER3.1, mothur, RDP mcclust, and python numpy, pandas, scipy, matplotlib, and screed package. Following are step by step tutorial for this pipeline:\n",
    "\n",
    "1. Update the notebooks by running this notebook (click \"Cell\" then \"Run All\").\n",
    "\n",
    "2. [Install dependencies](./pipeline-dependency-installation.ipynb). If running amazon EC2 with ami \"**ami-d87571b0**\", skip this step.\n",
    "\n",
    "3. [Database and dataset preparation](./data-preparation.ipynb)\n",
    "\n",
    "4. [SSU rRNA gene fragment search and classification](./ssu-search.ipynb). ssu-search-Copy1.ipynb, ssu-search-Copy2.ipynb, ssu-search-Copy3.ipynb, and ssu-search-Copy4.ipynb are the ones to run for test data\n",
    "\n",
    "5. [Unsupervised analysis](./unsupervised-analysis.ipynb)\n",
    "\n",
    "6. [Copy correction](./copy-correction.ipynb)"
   ]
  },
  {
   "cell_type": "code",
   "execution_count": 1,
   "metadata": {
    "collapsed": false
   },
   "outputs": [
    {
     "name": "stdout",
     "output_type": "stream",
     "text": [
      "Already up-to-date.\r\n"
     ]
    }
   ],
   "source": [
    "# update the notebooks\n",
    "!git pull"
   ]
  },
  {
   "cell_type": "code",
   "execution_count": null,
   "metadata": {
    "collapsed": true
   },
   "outputs": [],
   "source": []
  }
 ],
 "metadata": {
  "kernelspec": {
   "display_name": "Python 2",
   "language": "python",
   "name": "python2"
  },
  "language_info": {
   "codemirror_mode": {
    "name": "ipython",
    "version": 2
   },
   "file_extension": ".py",
   "mimetype": "text/x-python",
   "name": "python",
   "nbconvert_exporter": "python",
   "pygments_lexer": "ipython2",
   "version": "2.7.10"
  }
 },
 "nbformat": 4,
 "nbformat_minor": 0
}
