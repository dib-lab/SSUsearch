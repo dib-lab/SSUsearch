{
 "cells": [
  {
   "cell_type": "markdown",
   "metadata": {},
   "source": [
    "### set another directory for unsupervised analysis"
   ]
  },
  {
   "cell_type": "code",
   "execution_count": 172,
   "metadata": {
    "collapsed": false
   },
   "outputs": [
    {
     "name": "stdout",
     "output_type": "stream",
     "text": [
      "/home/gjr/Desktop/SSUsearch\n"
     ]
    }
   ],
   "source": [
    "cd ~/Desktop/SSUsearch/"
   ]
  },
  {
   "cell_type": "code",
   "execution_count": 173,
   "metadata": {
    "collapsed": true
   },
   "outputs": [],
   "source": [
    "mkdir -p ./workdir/clust"
   ]
  },
  {
   "cell_type": "code",
   "execution_count": 174,
   "metadata": {
    "collapsed": false
   },
   "outputs": [],
   "source": [
    "Prefix='SS'    # name for the analysis run\n",
    "Script_dir='./scripts'\n",
    "Wkdir='./workdir'\n",
    "Mcclust_jar='./external_tools/Clustering/dist/Clustering.jar'\n",
    "Java_xmx='1g'\n",
    "Java_gc_threads='2'\n",
    "Otu_dist_cutoff='0.05'\n",
    "Design='./data/test/SS.design'\n"
   ]
  },
  {
   "cell_type": "code",
   "execution_count": 175,
   "metadata": {
    "collapsed": false
   },
   "outputs": [
    {
     "name": "stdout",
     "output_type": "stream",
     "text": [
      "~/Desktop/SSUsearch/external_tools/bin/:~/Desktop/SSUsearch/external_tools/bin/:~/Desktop/SSUsearch/external_tools/bin/:~/Desktop/SSUsearch/external_tools/bin/:~/Desktop/SSUsearch/external_tools/bin/:/home/gjr/anaconda/bin:/usr/lib/lightdm/lightdm:/usr/local/sbin:/usr/local/bin:/usr/sbin:/usr/bin:/sbin:/bin:/usr/games\n",
      "/home/gjr/Desktop/SSUsearch/external_tools/Clustering/dist/Clustering.jar\n"
     ]
    }
   ],
   "source": [
    "# get absolute path\n",
    "import os\n",
    "Script_dir=os.path.abspath(Script_dir)\n",
    "Wkdir=os.path.abspath(Wkdir)\n",
    "Mcclust_jar=os.path.abspath(Mcclust_jar)\n",
    "Design=os.path.abspath(Design)\n",
    "New_path = '{}:{}'.format('~/Desktop/SSUsearch/external_tools/bin/', os.environ['PATH'])\n",
    "\n",
    "print New_path\n",
    "print Mcclust_jar\n",
    "\n",
    "os.environ.update(\n",
    "    {'PATH':New_path,\n",
    "     'Prefix':Prefix, \n",
    "     'Script_dir': Script_dir, \n",
    "     'Wkdir': Wkdir, \n",
    "     'Mcclust_jar': Mcclust_jar, \n",
    "     'Java_xmx':Java_xmx, \n",
    "     'Java_gc_threads':Java_gc_threads, \n",
    "     'Otu_dist_cutoff':Otu_dist_cutoff, \n",
    "     'Design': Design})"
   ]
  },
  {
   "cell_type": "code",
   "execution_count": 176,
   "metadata": {
    "collapsed": false
   },
   "outputs": [
    {
     "name": "stdout",
     "output_type": "stream",
     "text": [
      "/home/gjr/Desktop/SSUsearch/workdir/clust\n"
     ]
    }
   ],
   "source": [
    "cd ./workdir/clust"
   ]
  },
  {
   "cell_type": "code",
   "execution_count": 177,
   "metadata": {
    "collapsed": false
   },
   "outputs": [
    {
     "name": "stdout",
     "output_type": "stream",
     "text": [
      "*** Replace ':' with '_' in seq names (original illumina name has ':' in them)\r\n"
     ]
    }
   ],
   "source": [
    "!sed -i 's/:/_/g' $Wkdir/*.ssu.out/*.forclust\n",
    "!echo \"*** Replace ':' with '_' in seq names (original illumina name has ':' in them)\""
   ]
  },
  {
   "cell_type": "code",
   "execution_count": 178,
   "metadata": {
    "collapsed": false
   },
   "outputs": [],
   "source": [
    "cat $Wkdir/*.ssu.out/*.forclust > combined_seqs.afa"
   ]
  },
  {
   "cell_type": "code",
   "execution_count": 179,
   "metadata": {
    "collapsed": false
   },
   "outputs": [
    {
     "name": "stdout",
     "output_type": "stream",
     "text": [
      "input is list of files..\r\n"
     ]
    }
   ],
   "source": [
    "# make group file for mcclust and mothur. \n",
    "# first part of the file basename will be the group label, e.g. file \"aa.bb.cc\" will have \"aa\" as group label.\n",
    "!python $Script_dir/make-groupfile.py $Prefix.groups $Wkdir/*.ssu.out/*.forclust"
   ]
  },
  {
   "cell_type": "code",
   "execution_count": 180,
   "metadata": {
    "collapsed": false
   },
   "outputs": [
    {
     "name": "stdout",
     "output_type": "stream",
     "text": [
      "*** Starting mcclust derep\n",
      "Processing combined_seqs.afa\n",
      "Total sequences: 113\n",
      "Unique sequences: 105\n",
      "Dereplication complete: 585\n",
      "1.11user 0.12system 0:00.88elapsed 139%CPU (0avgtext+0avgdata 151920maxresident)k\n",
      "0inputs+144outputs (0major+9689minor)pagefaults 0swaps\n"
     ]
    }
   ],
   "source": [
    "!echo \"*** Starting mcclust derep\"\n",
    "!time java -Xmx$Java_xmx -XX:+UseParallelOldGC -XX:ParallelGCThreads=$Java_gc_threads \\\n",
    "    -jar $Mcclust_jar derep -a -o derep.fasta \\\n",
    "    temp.mcclust.names temp.txt combined_seqs.afa\n",
    "    \n",
    "!rm temp.txt"
   ]
  },
  {
   "cell_type": "code",
   "execution_count": 181,
   "metadata": {
    "collapsed": false
   },
   "outputs": [],
   "source": [
    "# convert mcclust names to mothur names\n",
    "!python $Script_dir/mcclust2mothur_names_file.py temp.mcclust.names temp.mothur.names"
   ]
  },
  {
   "cell_type": "code",
   "execution_count": 182,
   "metadata": {
    "collapsed": false
   },
   "outputs": [
    {
     "name": "stdout",
     "output_type": "stream",
     "text": [
      "starting preclust..\n",
      "\u001b[H\u001b[2J\n",
      "\n",
      "\n",
      "\n",
      "\n",
      "\n",
      "mothur v.1.33.3\n",
      "Last updated: 4/4/2014\n",
      "\n",
      "by\n",
      "Patrick D. Schloss\n",
      "\n",
      "Department of Microbiology & Immunology\n",
      "University of Michigan\n",
      "pschloss@umich.edu\n",
      "http://www.mothur.org\n",
      "\n",
      "When using, please cite:\n",
      "Schloss, P.D., et al., Introducing mothur: Open-source, platform-independent, community-supported software for describing and comparing microbial communities. Appl Environ Microbiol, 2009. 75(23):7537-41.\n",
      "\n",
      "Distributed under the GNU General Public License\n",
      "\n",
      "Type 'help()' for information on the commands that are available\n",
      "\n",
      "Type 'quit()' to exit program\n",
      "\n",
      "\n",
      "\n",
      "mothur > pre.cluster(fasta=derep.fasta, diffs=1, name=temp.mothur.names)\n",
      "\n",
      "Using 1 processors.\n",
      "0\t105\t0\n",
      "100\t100\t5\n",
      "105\t100\t5\n",
      "Total number of sequences before precluster was 105.\n",
      "pre.cluster removed 5 sequences.\n",
      "\n",
      "It took 0 secs to cluster 105 sequences.\n",
      "\n",
      "Output File Names: \n",
      "derep.precluster.fasta\n",
      "derep.precluster.names\n",
      "derep.precluster.map\n",
      "\n",
      "\n",
      "mothur > quit()\n"
     ]
    }
   ],
   "source": [
    "%%bash\n",
    "\n",
    "echo \"starting preclust..\"\n",
    "### output: derep.precluster.fasta, derep.precluster.names\n",
    "mothur \"#pre.cluster(fasta=derep.fasta, diffs=1, name=temp.mothur.names)\""
   ]
  },
  {
   "cell_type": "code",
   "execution_count": 183,
   "metadata": {
    "collapsed": true
   },
   "outputs": [],
   "source": [
    "!python $Script_dir/mothur2mcclust_names_file.py derep.precluster.names $Prefix.names"
   ]
  },
  {
   "cell_type": "code",
   "execution_count": 184,
   "metadata": {
    "collapsed": false
   },
   "outputs": [
    {
     "name": "stdout",
     "output_type": "stream",
     "text": [
      "Reading sequences(memratio=0.0013223222178831366)...\n",
      "Using distance model edu.msu.cme.rdp.alignment.pairwise.rna.UncorrectedDistanceModel\n",
      "Read 100 Nucleotide sequences (memratio=0.002375283433787936)\n",
      "Reading ID Mapping from file /home/gjr/Desktop/SSUsearch/workdir/clust/SS.names\n",
      "Read mapping for 113 sequences (memratio=0.00263591914083957)\n",
      "Starting distance computations, predicted max edges=10000, at=Sun Oct 25 12:07:35 EDT 2015\n",
      "Dumping 4950 edges to partial_matrix0 FINAL EDGES (memory ratio=0.006928596611829683)\n",
      "Matrix edges computed: 196\n",
      "Maximum distance: 0.5750000000000001\n",
      "Splits: 1\n",
      "Partition files merged: 17\n",
      "0.68user 0.07system 0:00.66elapsed 114%CPU (0avgtext+0avgdata 104720maxresident)k\n",
      "0inputs+184outputs (0major+6739minor)pagefaults 0swaps\n"
     ]
    }
   ],
   "source": [
    "!time java -Xmx$Java_xmx -XX:+UseParallelOldGC -XX:ParallelGCThreads=$Java_gc_threads \\\n",
    "    -jar $Mcclust_jar dmatrix \\\n",
    "    -l 25 -o matrix.bin -i $Prefix.names -I derep.precluster.fasta"
   ]
  },
  {
   "cell_type": "code",
   "execution_count": 185,
   "metadata": {
    "collapsed": false,
    "scrolled": false
   },
   "outputs": [
    {
     "name": "stdout",
     "output_type": "stream",
     "text": [
      "lambda=0\n",
      "Clustering complete: 634\n",
      "Lookaheads performed: 0\n",
      "Time spent Looking ahead: 0\n",
      "1.44user 0.10system 0:00.96elapsed 161%CPU (0avgtext+0avgdata 116896maxresident)k\n",
      "0inputs+456outputs (0major+7759minor)pagefaults 0swaps\n",
      "File(s):\t1c 1d 2c 2d \n",
      "\n",
      "Sequences:\t28 26 33 26 \n",
      "\n"
     ]
    }
   ],
   "source": [
    "!time java -Xmx$Java_xmx -XX:+UseParallelOldGC -XX:ParallelGCThreads=$Java_gc_threads \\\n",
    "    -jar $Mcclust_jar cluster -m upgma \\\n",
    "    -i $Prefix.names -s $Prefix.groups -o complete.clust -d matrix.bin\n",
    "\n",
    "!python $Script_dir/mcclust2mothur-list-cutoff.py complete.clust $Prefix.list $Otu_dist_cutoff"
   ]
  },
  {
   "cell_type": "code",
   "execution_count": 186,
   "metadata": {
    "collapsed": false
   },
   "outputs": [],
   "source": [
    "!java -jar $Mcclust_jar rep-seqs -c -l -s complete.clust $Otu_dist_cutoff combined_seqs.afa\n",
    "!mv complete.clust_rep_seqs.fasta otu_rep_align.fa"
   ]
  },
  {
   "cell_type": "code",
   "execution_count": 187,
   "metadata": {
    "collapsed": false,
    "scrolled": false
   },
   "outputs": [
    {
     "name": "stdout",
     "output_type": "stream",
     "text": [
      "\u001b[H\u001b[2J\n",
      "\n",
      "\n",
      "\n",
      "\n",
      "\n",
      "mothur v.1.33.3\n",
      "Last updated: 4/4/2014\n",
      "\n",
      "by\n",
      "Patrick D. Schloss\n",
      "\n",
      "Department of Microbiology & Immunology\n",
      "University of Michigan\n",
      "pschloss@umich.edu\n",
      "http://www.mothur.org\n",
      "\n",
      "When using, please cite:\n",
      "Schloss, P.D., et al., Introducing mothur: Open-source, platform-independent, community-supported software for describing and comparing microbial communities. Appl Environ Microbiol, 2009. 75(23):7537-41.\n",
      "\n",
      "Distributed under the GNU General Public License\n",
      "\n",
      "Type 'help()' for information on the commands that are available\n",
      "\n",
      "Type 'quit()' to exit program\n",
      "\n",
      "\n",
      "\n",
      "mothur > make.shared(list=SS.list, group=SS.groups, label=0.05)\n",
      "0.05\n",
      "\n",
      "Output File Names: \n",
      "SS.shared\n",
      "SS.1c.rabund\n",
      "SS.1d.rabund\n",
      "SS.2c.rabund\n",
      "SS.2d.rabund\n",
      "\n",
      "\n",
      "mothur > quit()\n",
      "\u001b[H\u001b[2J\n",
      "\n",
      "\n",
      "\n",
      "\n",
      "\n",
      "mothur v.1.33.3\n",
      "Last updated: 4/4/2014\n",
      "\n",
      "by\n",
      "Patrick D. Schloss\n",
      "\n",
      "Department of Microbiology & Immunology\n",
      "University of Michigan\n",
      "pschloss@umich.edu\n",
      "http://www.mothur.org\n",
      "\n",
      "When using, please cite:\n",
      "Schloss, P.D., et al., Introducing mothur: Open-source, platform-independent, community-supported software for describing and comparing microbial communities. Appl Environ Microbiol, 2009. 75(23):7537-41.\n",
      "\n",
      "Distributed under the GNU General Public License\n",
      "\n",
      "Type 'help()' for information on the commands that are available\n",
      "\n",
      "Type 'quit()' to exit program\n",
      "\n",
      "\n",
      "\n",
      "mothur > classify.otu(list=SS.list, taxonomy=SS.taxonomy, label=0.05)\n",
      "reftaxonomy is not required, but if given will keep the rankIDs in the summary file static.\n",
      "0.05\t78\n",
      "\n",
      "Output File Names: \n",
      "SS.0.05.cons.taxonomy\n",
      "SS.0.05.cons.tax.summary\n",
      "\n",
      "[WARNING]: your sequence names contained ':'.  I changed them to '_' to avoid problems in your downstream analysis.\n",
      "\n",
      "mothur > quit()\n",
      "\u001b[H\u001b[2J\n",
      "\n",
      "\n",
      "\n",
      "\n",
      "\n",
      "mothur v.1.33.3\n",
      "Last updated: 4/4/2014\n",
      "\n",
      "by\n",
      "Patrick D. Schloss\n",
      "\n",
      "Department of Microbiology & Immunology\n",
      "University of Michigan\n",
      "pschloss@umich.edu\n",
      "http://www.mothur.org\n",
      "\n",
      "When using, please cite:\n",
      "Schloss, P.D., et al., Introducing mothur: Open-source, platform-independent, community-supported software for describing and comparing microbial communities. Appl Environ Microbiol, 2009. 75(23):7537-41.\n",
      "\n",
      "Distributed under the GNU General Public License\n",
      "\n",
      "Type 'help()' for information on the commands that are available\n",
      "\n",
      "Type 'quit()' to exit program\n",
      "\n",
      "\n",
      "\n",
      "mothur > make.biom(shared=SS.shared, constaxonomy=SS.0.05.cons.taxonomy)\n",
      "0.05\n",
      "\n",
      "Output File Names: \n",
      "SS.0.05.biom\n",
      "\n",
      "\n",
      "mothur > quit()\n"
     ]
    }
   ],
   "source": [
    "%%bash\n",
    "\n",
    "mothur \"#make.shared(list=$Prefix.list, group=$Prefix.groups, label=$Otu_dist_cutoff);\"\n",
    "cat $Wkdir/*.ssu.out/*.silva.taxonomy > $Prefix.taxonomy\n",
    "mothur \"#classify.otu(list=$Prefix.list, taxonomy=$Prefix.taxonomy, label=$Otu_dist_cutoff)\"\n",
    "mothur \"#make.biom(shared=$Prefix.shared, constaxonomy=$Prefix.$Otu_dist_cutoff.cons.taxonomy)\"\n",
    "mv $Prefix.$Otu_dist_cutoff.biom $Prefix.biom"
   ]
  },
  {
   "cell_type": "code",
   "execution_count": 188,
   "metadata": {
    "collapsed": true
   },
   "outputs": [],
   "source": [
    "# clean up tempfiles\n",
    "!rm -f mothur.*.logfile *rabund complete* derep.fasta matrix.bin nonoverlapping.bin temp.*"
   ]
  },
  {
   "cell_type": "markdown",
   "metadata": {
    "collapsed": true
   },
   "source": [
    "### With SS.groups, SS.names and SS.list, most diversity analysis can be done by mothur. You can look at [mothur wiki](http://www.mothur.org/wiki/454_SOP) for details (Do not forgot to do even sampling before beta-diversity analysis).\n",
    "\n",
    "### SS.biom file can used in most tools. (qiime and rdp)\n",
    "\n"
   ]
  },
  {
   "cell_type": "code",
   "execution_count": 189,
   "metadata": {
    "collapsed": false
   },
   "outputs": [
    {
     "name": "stdout",
     "output_type": "stream",
     "text": [
      "\u001b[H\u001b[2J\n",
      "\n",
      "\n",
      "\n",
      "\n",
      "\n",
      "mothur v.1.33.3\n",
      "Last updated: 4/4/2014\n",
      "\n",
      "by\n",
      "Patrick D. Schloss\n",
      "\n",
      "Department of Microbiology & Immunology\n",
      "University of Michigan\n",
      "pschloss@umich.edu\n",
      "http://www.mothur.org\n",
      "\n",
      "When using, please cite:\n",
      "Schloss, P.D., et al., Introducing mothur: Open-source, platform-independent, community-supported software for describing and comparing microbial communities. Appl Environ Microbiol, 2009. 75(23):7537-41.\n",
      "\n",
      "Distributed under the GNU General Public License\n",
      "\n",
      "Type 'help()' for information on the commands that are available\n",
      "\n",
      "Type 'quit()' to exit program\n",
      "\n",
      "\n",
      "\n",
      "mothur > make.shared(biom=SS.biom)\n",
      "\n",
      "dummy\n",
      "\n",
      "Output File Names: \n",
      "SS.shared\n",
      "SS.1c.rabund\n",
      "SS.1d.rabund\n",
      "SS.2c.rabund\n",
      "SS.2d.rabund\n",
      "\n",
      "\n",
      "mothur > sub.sample(shared=SS.shared)\n",
      "Sampling 26 from each group.\n",
      "dummy\n",
      "\n",
      "Output File Names: \n",
      "SS.dummy.subsample.shared\n",
      "\n",
      "\n",
      "mothur > summary.single(calc=nseqs-coverage-sobs-chao-shannon-invsimpson)\n",
      "Using SS.dummy.subsample.shared as input file for the shared parameter.\n",
      "\n",
      "Processing group 1c\n",
      "\n",
      "dummy\n",
      "\n",
      "Processing group 1d\n",
      "\n",
      "dummy\n",
      "\n",
      "Processing group 2c\n",
      "\n",
      "dummy\n",
      "\n",
      "Processing group 2d\n",
      "\n",
      "dummy\n",
      "\n",
      "Output File Names: \n",
      "SS.dummy.subsample.groups.summary\n",
      "\n",
      "\n",
      "mothur > dist.shared(calc=braycurtis)\n",
      "Using SS.dummy.subsample.shared as input file for the shared parameter.\n",
      "\n",
      "Using 1 processors.\n",
      "dummy\n",
      "\n",
      "Output File Names: \n",
      "SS.dummy.subsample.braycurtis.dummy.lt.dist\n",
      "\n",
      "\n",
      "mothur > pcoa(phylip=SS.dummy.subsample.braycurtis.dummy.lt.dist)\n",
      "\n",
      "Processing...\n",
      "Rsq 1 axis: 0.340089\n",
      "Rsq 2 axis: 0.930325\n",
      "Rsq 3 axis: 1\n",
      "\n",
      "Output File Names: \n",
      "SS.dummy.subsample.braycurtis.dummy.lt.pcoa.axes\n",
      "SS.dummy.subsample.braycurtis.dummy.lt.pcoa.loadings\n",
      "\n",
      "\n",
      "mothur > nmds(phylip=SS.dummy.subsample.braycurtis.dummy.lt.dist)\n",
      "Processing Dimension: 2\n",
      "1\n",
      "2\n",
      "3\n",
      "4\n",
      "5\n",
      "6\n",
      "7\n",
      "8\n",
      "9\n",
      "10\n",
      "\n",
      "Number of dimensions:\t2\n",
      "Lowest stress :\t0.122063\n",
      "R-squared for configuration:\t0.790695\n",
      "\n",
      "Output File Names: \n",
      "SS.dummy.subsample.braycurtis.dummy.lt.nmds.iters\n",
      "SS.dummy.subsample.braycurtis.dummy.lt.nmds.stress\n",
      "SS.dummy.subsample.braycurtis.dummy.lt.nmds.axes\n",
      "\n",
      "\n",
      "mothur > amova(phylip=SS.dummy.subsample.braycurtis.dummy.lt.dist, design=/home/gjr/Desktop/SSUsearch/data/test/SS.design)\n",
      "c-d\tAmong\tWithin\tTotal\n",
      "SS\t0.441198\t0.68713\t1.12833\n",
      "df\t1\t2\t3\n",
      "MS\t0.441198\t0.343565\n",
      "\n",
      "Fs:\t1.28418\n",
      "p-value: 0.292\n",
      "\n",
      "Experiment-wise error rate: 0.05\n",
      "If you have borderline P-values, you should try increasing the number of iterations\n",
      "\n",
      "Output File Names: \n",
      "SS.dummy.subsample.braycurtis.dummy.lt.amova\n",
      "\n",
      "\n",
      "mothur > tree.shared(calc=braycurtis)\n",
      "Using SS.dummy.subsample.shared as input file for the shared parameter.\n",
      "\n",
      "Using 1 processors.\n",
      "dummy\n",
      "\n",
      "Output File Names: \n",
      "SS.dummy.subsample.braycurtis.dummy.tre\n",
      "\n",
      "\n",
      "mothur > unifrac.weighted(tree=SS.dummy.subsample.braycurtis.dummy.tre, group=/home/gjr/Desktop/SSUsearch/data/test/SS.design, random=T)\n",
      "\n",
      "Using 1 processors.\n",
      "Tree#\tGroups\tWScore\tWSig\n",
      "1\tc-d\t0.983871\t<0.0010\n",
      "It took 0 secs to run unifrac.weighted.\n",
      "\n",
      "Output File Names: \n",
      "SS.dummy.subsample.braycurtis.dummy.trewsummary\n",
      "SS.dummy.subsample.braycurtis.dummy.tre1.weighted\n",
      "\n",
      "\n",
      "mothur > quit()\n"
     ]
    }
   ],
   "source": [
    "%%bash\n",
    "\n",
    "#since The purpose of this tutorial is to show our new pipeline, we will skip details of community analysis with mothur\n",
    "#following are some common commands in mothur\n",
    "\n",
    "# mothur is inconsistent with the \"Label\" in files names. I have seens either \"dummy\" or \"useLabel“\n",
    "# \"dummy\" for 1.33.3; \"userLabel\" for 1.34.4\n",
    "Label=userLabel\n",
    "#Label=dummy\n",
    "\n",
    "mothur \"#make.shared(biom=$Prefix.biom); sub.sample(shared=$Prefix.shared); summary.single(calc=nseqs-coverage-sobs-chao-shannon-invsimpson); dist.shared(calc=braycurtis); pcoa(phylip=$Prefix.$Label.subsample.braycurtis.$Label.lt.dist); nmds(phylip=$Prefix.$Label.subsample.braycurtis.$Label.lt.dist); amova(phylip=$Prefix.$Label.subsample.braycurtis.$Label.lt.dist, design=$Design); tree.shared(calc=braycurtis); unifrac.weighted(tree=$Prefix.$Label.subsample.braycurtis.$Label.tre, group=$Design, random=T)\"\n",
    "rm -f mothur.*.logfile; \n",
    "rm -f *.rabund"
   ]
  },
  {
   "cell_type": "code",
   "execution_count": 190,
   "metadata": {
    "collapsed": false
   },
   "outputs": [
    {
     "name": "stdout",
     "output_type": "stream",
     "text": [
      "This part of pipeline finishes successfully :)\r\n"
     ]
    }
   ],
   "source": [
    "!echo \"This part of pipeline finishes successfully :)\""
   ]
  },
  {
   "cell_type": "code",
   "execution_count": null,
   "metadata": {
    "collapsed": true
   },
   "outputs": [],
   "source": []
  },
  {
   "cell_type": "code",
   "execution_count": 191,
   "metadata": {
    "collapsed": true
   },
   "outputs": [],
   "source": [
    "### some simple visualization"
   ]
  },
  {
   "cell_type": "code",
   "execution_count": 198,
   "metadata": {
    "collapsed": false
   },
   "outputs": [
    {
     "name": "stderr",
     "output_type": "stream",
     "text": [
      "2 samples collect for Kw c\n",
      "2 samples collect for Kw d\n",
      "2 samples collect for Kw c\n",
      "2 samples collect for Kw d\n",
      "2 samples collect for Kw c\n",
      "2 samples collect for Kw d\n"
     ]
    }
   ],
   "source": [
    "%%bash\n",
    "\n",
    "Label=userLabel\n",
    "#Label=dummy\n",
    "\n",
    "# alpha diveristy index\n",
    "python $Script_dir/plot-diversity-index.py $Label \"chao,shannon,invsimpson\" \"c,d\" \"SS.$Label.subsample.groups.summary\" \"test\" \"test.alpha\" "
   ]
  },
  {
   "cell_type": "code",
   "execution_count": 199,
   "metadata": {
    "collapsed": false
   },
   "outputs": [
    {
     "data": {
      "image/png": "[encoded data removed]",
      "text/plain": [
       "<IPython.core.display.Image object>"
      ]
     },
     "execution_count": 199,
     "metadata": {},
     "output_type": "execute_result"
    }
   ],
   "source": [
    "from IPython.display import Image\n",
    "Image('test.alpha.png')"
   ]
  },
  {
   "cell_type": "code",
   "execution_count": 200,
   "metadata": {
    "collapsed": true
   },
   "outputs": [],
   "source": [
    "# taxon distribution\n",
    "!python $Script_dir/plot-taxa-count.py 2 test.taxa.dist ../*.ssu.out/*.silva.taxonomy.count"
   ]
  },
  {
   "cell_type": "code",
   "execution_count": 195,
   "metadata": {
    "collapsed": false
   },
   "outputs": [
    {
     "data": {
      "image/png": "[encoded data removed]",
      "text/plain": [
       "<IPython.core.display.Image object>"
      ]
     },
     "execution_count": 195,
     "metadata": {},
     "output_type": "execute_result"
    }
   ],
   "source": [
    "from IPython.display import Image\n",
    "Image('test.taxa.dist.png')"
   ]
  },
  {
   "cell_type": "code",
   "execution_count": 203,
   "metadata": {
    "collapsed": false
   },
   "outputs": [],
   "source": [
    "%%bash\n",
    "\n",
    "Label=userLabel\n",
    "#Label=dummy\n",
    "\n",
    "# ordination\n",
    "python $Script_dir/plot-pcoa.py  SS.$Label.subsample.braycurtis.$Label.lt.pcoa.axes  SS.$Label.subsample.braycurtis.$Label.lt.pcoa.loadings  test.beta.pcoa"
   ]
  },
  {
   "cell_type": "code",
   "execution_count": 204,
   "metadata": {
    "collapsed": false
   },
   "outputs": [
    {
     "data": {
      "image/png": "[encoded data removed]",
      "text/plain": [
       "<IPython.core.display.Image object>"
      ]
     },
     "execution_count": 204,
     "metadata": {},
     "output_type": "execute_result"
    }
   ],
   "source": [
    "from IPython.display import Image\n",
    "Image('test.beta.pcoa.png')"
   ]
  },
  {
   "cell_type": "code",
   "execution_count": null,
   "metadata": {
    "collapsed": true
   },
   "outputs": [],
   "source": []
  }
 ],
 "metadata": {
  "kernelspec": {
   "display_name": "Python 2",
   "language": "python",
   "name": "python2"
  },
  "language_info": {
   "codemirror_mode": {
    "name": "ipython",
    "version": 2
   },
   "file_extension": ".py",
   "mimetype": "text/x-python",
   "name": "python",
   "nbconvert_exporter": "python",
   "pygments_lexer": "ipython2",
   "version": "2.7.10"
  }
 },
 "nbformat": 4,
 "nbformat_minor": 0
}
