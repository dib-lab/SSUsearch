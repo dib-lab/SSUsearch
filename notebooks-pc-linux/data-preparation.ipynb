{
 "cells": [
  {
   "cell_type": "markdown",
   "metadata": {},
   "source": [
    "### Setup data directory"
   ]
  },
  {
   "cell_type": "code",
   "execution_count": 1,
   "metadata": {
    "collapsed": false
   },
   "outputs": [
    {
     "name": "stdout",
     "output_type": "stream",
     "text": [
      "/home/gjr/Desktop/SSUsearch\n"
     ]
    }
   ],
   "source": [
    "cd ~/Desktop/SSUsearch/"
   ]
  },
  {
   "cell_type": "code",
   "execution_count": 2,
   "metadata": {
    "collapsed": false
   },
   "outputs": [],
   "source": [
    "mkdir -p ./data"
   ]
  },
  {
   "cell_type": "code",
   "execution_count": 3,
   "metadata": {
    "collapsed": false,
    "scrolled": false
   },
   "outputs": [
    {
     "name": "stdout",
     "output_type": "stream",
     "text": [
      "/home/gjr/Desktop/SSUsearch/data\n"
     ]
    }
   ],
   "source": [
    "cd ./data"
   ]
  },
  {
   "cell_type": "markdown",
   "metadata": {},
   "source": [
    "### Download database files"
   ]
  },
  {
   "cell_type": "code",
   "execution_count": 4,
   "metadata": {
    "collapsed": false
   },
   "outputs": [
    {
     "name": "stdout",
     "output_type": "stream",
     "text": [
      "  % Total    % Received % Xferd  Average Speed   Time    Time     Time  Current\n",
      "                                 Dload  Upload   Total   Spent    Left  Speed\n",
      "100  117M  100  117M    0     0  2173k      0  0:00:55  0:00:55 --:--:-- 2380k\n"
     ]
    }
   ],
   "source": [
    "!wget https://s3.amazonaws.com/ssusearchdb/SSUsearch_db.tgz"
   ]
  },
  {
   "cell_type": "code",
   "execution_count": 5,
   "metadata": {
    "collapsed": false
   },
   "outputs": [
    {
     "name": "stdout",
     "output_type": "stream",
     "text": [
      "SSUsearch_db/\n",
      "SSUsearch_db/Gene_db.silva_108_rep_set.fasta\n",
      "SSUsearch_db/Gene_tax.silva_taxa_family.tax\n",
      "SSUsearch_db/Gene_model_org.16s_ecoli_J01695.fasta\n",
      "SSUsearch_db/Gene_db_cc.greengene_97_otus.fasta\n",
      "SSUsearch_db/Gene_tax_cc.greengene_97_otus.tax\n",
      "SSUsearch_db/Copy_db.copyrighter.txt\n",
      "SSUsearch_db/Ali_template.silva_ssu.fasta\n",
      "SSUsearch_db/readme\n",
      "SSUsearch_db/Ali_template.silva_lsu.fasta\n",
      "SSUsearch_db/Ali_template.test.fasta\n",
      "SSUsearch_db/Ali_template.test_lsu.fasta\n",
      "SSUsearch_db/Gene_db.lsu_silva_rep.fasta\n",
      "SSUsearch_db/Gene_db.ssu_rdp_rep.fasta\n",
      "SSUsearch_db/Gene_tax.lsu_silva_rep.tax\n",
      "SSUsearch_db/Gene_tax.ssu_rdp_rep.tax\n",
      "SSUsearch_db/Hmm.lsu.hmm\n",
      "SSUsearch_db/clean.sh\n",
      "SSUsearch_db/Hmm.ssu.hmm\n"
     ]
    }
   ],
   "source": [
    "!tar -xzvf SSUsearch_db.tgz"
   ]
  },
  {
   "cell_type": "markdown",
   "metadata": {},
   "source": [
    "### download a small test dataset\n",
    "\n",
    "### ATT: for real (larger) dataset, make sure there is enough disk space."
   ]
  },
  {
   "cell_type": "code",
   "execution_count": 9,
   "metadata": {
    "collapsed": false
   },
   "outputs": [
    {
     "name": "stdout",
     "output_type": "stream",
     "text": [
      "--2015-10-25 08:22:59--  http://athyra.oxli.org/~gjr/public2/misc/SSUsearch/test.tgz\n",
      "Resolving athyra.oxli.org (athyra.oxli.org)... 35.8.120.27\n",
      "Connecting to athyra.oxli.org (athyra.oxli.org)|35.8.120.27|:80... connected.\n",
      "HTTP request sent, awaiting response... 200 OK\n",
      "Length: 9952 (9.7K) [application/x-gzip]\n",
      "Saving to: `test.tgz.1'\n",
      "\n",
      "100%[======================================>] 9,952       --.-K/s   in 0.004s  \n",
      "\n",
      "2015-10-25 08:22:59 (2.61 MB/s) - `test.tgz.1' saved [9952/9952]\n",
      "\n",
      "test/\n",
      "test/SS.design\n",
      "test/data/\n",
      "test/data/1c.fa\n",
      "test/data/1d.fa\n",
      "test/data/2d.fa\n",
      "test/data/2c.fa\n"
     ]
    }
   ],
   "source": [
    "!wget https://s3.amazonaws.com/ssusearchdb/test.tgz\n",
    "!tar -xzvf test.tgz"
   ]
  },
  {
   "cell_type": "code",
   "execution_count": 10,
   "metadata": {
    "collapsed": false,
    "scrolled": true
   },
   "outputs": [
    {
     "name": "stdout",
     "output_type": "stream",
     "text": [
      "1c.fa  1d.fa  2c.fa  2d.fa\r\n"
     ]
    }
   ],
   "source": [
    "ls test/data/"
   ]
  },
  {
   "cell_type": "markdown",
   "metadata": {
    "collapsed": true
   },
   "source": [
    "### This tutorial assumes that you ready finished quality trimming, and also paired end merge, if you paired end reads overlap.\n",
    "\n",
    "For quality trimming, we recommend [trimmomatic](http://www.usadellab.org/cms/?page=trimmomatic) written in java, or [fastq-mcf](https://code.google.com/p/ea-utils/wiki/FastqMcf) written in C.\n",
    "\n",
    "For paired end reads merging, we recommend [pandseq](https://github.com/neufeld/pandaseq) or [flash](http://ccb.jhu.edu/software/FLASH/)"
   ]
  },
  {
   "cell_type": "code",
   "execution_count": null,
   "metadata": {
    "collapsed": true
   },
   "outputs": [],
   "source": []
  }
 ],
 "metadata": {
  "kernelspec": {
   "display_name": "Python 2",
   "language": "python",
   "name": "python2"
  },
  "language_info": {
   "codemirror_mode": {
    "name": "ipython",
    "version": 2
   },
   "file_extension": ".py",
   "mimetype": "text/x-python",
   "name": "python",
   "nbconvert_exporter": "python",
   "pygments_lexer": "ipython2",
   "version": "2.7.10"
  }
 },
 "nbformat": 4,
 "nbformat_minor": 0
}
